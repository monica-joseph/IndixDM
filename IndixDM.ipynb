{
 "cells": [
  {
   "cell_type": "code",
   "execution_count": 1,
   "metadata": {
    "collapsed": true
   },
   "outputs": [],
   "source": [
    "# setting the working directory\n",
    "import os as os\n",
    "os.chdir(\"D:\\Learn R\\IndixDM\")"
   ]
  },
  {
   "cell_type": "code",
   "execution_count": 2,
   "metadata": {
    "collapsed": false
   },
   "outputs": [
    {
     "name": "stdout",
     "output_type": "stream",
     "text": [
      "91845\n"
     ]
    }
   ],
   "source": [
    "#reading train data\n",
    "import pandas as pd\n",
    "Indix_Train = pd.read_csv(\"data.csv\",sep=\",\", encoding=\"utf-8\")\n",
    "print(Indix_Train.shape[0])"
   ]
  },
  {
   "cell_type": "code",
   "execution_count": 31,
   "metadata": {
    "collapsed": false
   },
   "outputs": [
    {
     "name": "stdout",
     "output_type": "stream",
     "text": [
      "11842\n"
     ]
    }
   ],
   "source": [
    "#reading train data\n",
    "import pandas as pd\n",
    "Indix_Test = pd.read_csv(\"blindset_table_out.csv\",sep=\",\", encoding=\"utf-8\")\n",
    "print(Indix_Test.shape[0])"
   ]
  },
  {
   "cell_type": "code",
   "execution_count": 4,
   "metadata": {
    "collapsed": false
   },
   "outputs": [
    {
     "data": {
      "text/plain": [
       "Index([u'label', u'table-text', u'url'], dtype='object')"
      ]
     },
     "execution_count": 4,
     "metadata": {},
     "output_type": "execute_result"
    }
   ],
   "source": [
    "Indix_Train.columns"
   ]
  },
  {
   "cell_type": "code",
   "execution_count": 32,
   "metadata": {
    "collapsed": false
   },
   "outputs": [
    {
     "data": {
      "text/plain": [
       "Index([u'id', u'table-text', u'url', u'site'], dtype='object')"
      ]
     },
     "execution_count": 32,
     "metadata": {},
     "output_type": "execute_result"
    }
   ],
   "source": [
    "Indix_Test.columns"
   ]
  },
  {
   "cell_type": "code",
   "execution_count": 6,
   "metadata": {
    "collapsed": false
   },
   "outputs": [
    {
     "data": {
      "text/html": [
       "<div>\n",
       "<table border=\"1\" class=\"dataframe\">\n",
       "  <thead>\n",
       "    <tr style=\"text-align: right;\">\n",
       "      <th></th>\n",
       "      <th>label</th>\n",
       "      <th>table-text</th>\n",
       "      <th>url</th>\n",
       "    </tr>\n",
       "  </thead>\n",
       "  <tbody>\n",
       "    <tr>\n",
       "      <th>0</th>\n",
       "      <td>no</td>\n",
       "      <td>&lt;table id=\"selectedProduct\"&gt;\\n&lt;tr&gt;\\n&lt;th class=...</td>\n",
       "      <td>www.gandermountain.com/68a52b85e5089394e34f1bc...</td>\n",
       "    </tr>\n",
       "    <tr>\n",
       "      <th>1</th>\n",
       "      <td>no</td>\n",
       "      <td>&lt;table id=\"completeProducts\"&gt;\\n&lt;tr&gt;\\n&lt;th class...</td>\n",
       "      <td>www.gandermountain.com/68a52b85e5089394e34f1bc...</td>\n",
       "    </tr>\n",
       "    <tr>\n",
       "      <th>2</th>\n",
       "      <td>no</td>\n",
       "      <td>&lt;table&gt;\\n&lt;tr&gt;\\n&lt;td class=\"search_msg\"&gt;\\n&lt;!--be...</td>\n",
       "      <td>www.gandermountain.com/f494618f406eddbb0c3b696...</td>\n",
       "    </tr>\n",
       "    <tr>\n",
       "      <th>3</th>\n",
       "      <td>no</td>\n",
       "      <td>&lt;table id=\"selectedProduct\"&gt;\\n&lt;tr&gt;\\n&lt;th class=...</td>\n",
       "      <td>www.gandermountain.com/7ce730e8cb3fe5244ffa8c2...</td>\n",
       "    </tr>\n",
       "    <tr>\n",
       "      <th>4</th>\n",
       "      <td>no</td>\n",
       "      <td>&lt;table id=\"completeProducts\"&gt;\\n&lt;tr&gt;\\n&lt;th class...</td>\n",
       "      <td>www.gandermountain.com/7ce730e8cb3fe5244ffa8c2...</td>\n",
       "    </tr>\n",
       "  </tbody>\n",
       "</table>\n",
       "</div>"
      ],
      "text/plain": [
       "  label                                         table-text  \\\n",
       "0    no  <table id=\"selectedProduct\">\\n<tr>\\n<th class=...   \n",
       "1    no  <table id=\"completeProducts\">\\n<tr>\\n<th class...   \n",
       "2    no  <table>\\n<tr>\\n<td class=\"search_msg\">\\n<!--be...   \n",
       "3    no  <table id=\"selectedProduct\">\\n<tr>\\n<th class=...   \n",
       "4    no  <table id=\"completeProducts\">\\n<tr>\\n<th class...   \n",
       "\n",
       "                                                 url  \n",
       "0  www.gandermountain.com/68a52b85e5089394e34f1bc...  \n",
       "1  www.gandermountain.com/68a52b85e5089394e34f1bc...  \n",
       "2  www.gandermountain.com/f494618f406eddbb0c3b696...  \n",
       "3  www.gandermountain.com/7ce730e8cb3fe5244ffa8c2...  \n",
       "4  www.gandermountain.com/7ce730e8cb3fe5244ffa8c2...  "
      ]
     },
     "execution_count": 6,
     "metadata": {},
     "output_type": "execute_result"
    }
   ],
   "source": [
    "Indix_Train.head()"
   ]
  },
  {
   "cell_type": "code",
   "execution_count": 7,
   "metadata": {
    "collapsed": false
   },
   "outputs": [
    {
     "data": {
      "text/plain": [
       "<table class=\"bdrGry medsml\" style=\"width:100%; font-style:italic; border-collapse:collapse; margin:6px 0px;\">\\n<tr>\\n<td style=\"width:85px;\">\\n<div class=\"ratingbar\">\\n<div id=\"ctl00_plhMainBody_RatingBar_divLen\" style=\"width:0%;\"></div>\\n</div>\\n</td>\\n<td><a href=\"#Reviews\" onclick=\"$('#Container').triggerTab(2); window.scrollTo(0,700); return true;\">(<span itemprop=\"ratingCount\">0</span> customer reviews)</a></td>\\n<td class=\"b\" style=\"text-align:right;\"><a href=\"#AddReview\" onclick=\"$('#Container').triggerTab(2); window.scrollTo(0,700); return true;\">Write a review!</a></td>\\n</tr>\\n</table>    45\n",
       "<table cellpadding=\"0\" cellspacing=\"0\" id=\"PrDet_2\">\\n<tr>\\n<td>Printer Technology</td>\\n<td><span id=\"custitem15\">Laser Cartridge</span></td>\\n</tr>\\n<tr>\\n<td>Drum Type</td>\\n<td><span>N/A</span></td>\\n</tr>\\n<tr>\\n<td>Condition</td>\\n<td><span id=\"condition\">OEM/Original</span></td>\\n</tr>\\n<tr>\\n<td>Product Notes</td>\\n<td><span></span></td>\\n</tr>\\n<tr>\\n<td>Installation manual 1</td>\\n<td><span><a href=\"\">Download</a></span></td>\\n</tr>\\n<tr>\\n<td>Installation manual 2</td>\\n<td><span><a href=\"\">Download</a></span></td>\\n</tr>\\n<!--googleon: index-->\\n</table>                                   31\n",
       "<table cellpadding=\"0\" cellspacing=\"0\" id=\"PrDet_2\">\\n<tr>\\n<td>Printer Technology</td>\\n<td><span id=\"custitem15\">Ink Cartridge</span></td>\\n</tr>\\n<tr>\\n<td>Drum Type</td>\\n<td><span>N/A</span></td>\\n</tr>\\n<tr>\\n<td>Condition</td>\\n<td><span id=\"condition\">OEM/Original</span></td>\\n</tr>\\n<tr>\\n<td>Product Notes</td>\\n<td><span></span></td>\\n</tr>\\n<tr>\\n<td>Installation manual 1</td>\\n<td><span><a href=\"\">Download</a></span></td>\\n</tr>\\n<tr>\\n<td>Installation manual 2</td>\\n<td><span><a href=\"\">Download</a></span></td>\\n</tr>\\n<!--googleon: index-->\\n</table>                                     27\n",
       "<table cellspacing=\"0\" class=\"prodSpec\">\\n<col class=\"col1\">\\n<col class=\"col2\">\\n<tbody></tbody>\\n</col></col></table>                                                                                                                                                                                                                                                                                                                                                                                                                                                                                                        13\n",
       "<table class=\"data-table\" id=\"product-attribute-specs-table\">\\n<col width=\"25%\"></col>\\n<col></col>\\n<tbody>\\n<tr>\\n<th class=\"label\">Make</th>\\n<td class=\"data\">No</td>\\n</tr>\\n<tr>\\n<th class=\"label\">Dimensions</th>\\n<td class=\"data\">No</td>\\n</tr>\\n</tbody>\\n</table>                                                                                                                                                                                                                                                                                                                                                 12\n",
       "dtype: int64"
      ]
     },
     "execution_count": 7,
     "metadata": {},
     "output_type": "execute_result"
    }
   ],
   "source": [
    "Indix_Train[Indix_Train['label']=='yes']['table-text'].value_counts().head()"
   ]
  },
  {
   "cell_type": "code",
   "execution_count": 41,
   "metadata": {
    "collapsed": false
   },
   "outputs": [],
   "source": [
    "import pandas as pd\n",
    "fullDataText=pd.read_csv(\"fullData.csv\",sep=\",\", encoding=\"utf-8\")"
   ]
  },
  {
   "cell_type": "code",
   "execution_count": 42,
   "metadata": {
    "collapsed": false
   },
   "outputs": [
    {
     "data": {
      "text/plain": [
       "103687"
      ]
     },
     "execution_count": 42,
     "metadata": {},
     "output_type": "execute_result"
    }
   ],
   "source": [
    "fullDataText.shape[0]"
   ]
  },
  {
   "cell_type": "code",
   "execution_count": 9,
   "metadata": {
    "collapsed": false
   },
   "outputs": [
    {
     "data": {
      "text/plain": [
       "Index([        u'V1',        u'V10',         u'V2',         u'V3',\n",
       "               u'V4',         u'V5',         u'V6',         u'V7',\n",
       "               u'V8',         u'V9',         u'id',      u'label',\n",
       "             u'site', u'table-text',        u'url'],\n",
       "      dtype='object')"
      ]
     },
     "execution_count": 9,
     "metadata": {},
     "output_type": "execute_result"
    }
   ],
   "source": [
    "fullDataText.columns"
   ]
  },
  {
   "cell_type": "code",
   "execution_count": 121,
   "metadata": {
    "collapsed": true
   },
   "outputs": [],
   "source": [
    "IndixDM_Train_Text=fullDataText[fullDataText['label']!='Test']\n",
    "IndixDM_Test_Text=fullDataText[fullDataText['label']=='Test']"
   ]
  },
  {
   "cell_type": "code",
   "execution_count": 141,
   "metadata": {
    "collapsed": false
   },
   "outputs": [
    {
     "data": {
      "text/plain": [
       "shopping1.hp.com/1eae7770e08b252b5a869ed9942716c8.html      114\n",
       "www.samstores.com/faacd41c547ca949834b702ae038ad1a.html     104\n",
       "www.samstores.com/cb85ae9feb46dded8572cd16de6490f4.html     104\n",
       "www.samstores.com/094453cebc4c33180b3e0afe1cced63e.html     104\n",
       "www.samstores.com/f2b49e35c68b0ebdf9662b22715549fa.html     104\n",
       "www.samstores.com/c293c263f06acd08e53fd005cc4cd25e.html     104\n",
       "www.samstores.com/93eb0644f19834e18c76e9f219cad9b4.html     104\n",
       "www.samstores.com/443f6594ad493b81b066f117545e6028.html     104\n",
       "www.samstores.com/e53683cbe8c441c63a35359c13b88186.html     104\n",
       "www.samstores.com/64fb6b5c262b9d395289e1ecf3a5ad3e.html     104\n",
       "www.samstores.com/6c22c6cbd6adc2f8cad0c8e9a3815cc3.html     104\n",
       "www.samstores.com/a80d5551be9fbe08286c71447bcde3e7.html     104\n",
       "www.samstores.com/3e3edd08a00cc6e5a0c2887427007011.html     104\n",
       "www.samstores.com/212f661f83ab6ddbdf55d46a62ddc1ff.html     104\n",
       "www.samstores.com/c379c84f3684820cdae64a1dce687ebd.html     104\n",
       "www.samstores.com/fb17fa9bf5581f92ac195ca834621736.html     104\n",
       "www.samstores.com/a393810abe3adeb1186bf73cbb3c39b1.html     104\n",
       "www.samstores.com/0f878894923b84cec419bfac0d66ffb9.html     104\n",
       "www.samstores.com/2d42984d418c2ec248128ece8c012492.html      93\n",
       "www.samstores.com/922445439e5bffb9c7ebd002aecf3a76.html      76\n",
       "www.samstores.com/6f3023943ecb428301b75759c870df43.html      76\n",
       "www.samstores.com/b05e9ba6f238e97b211bc374bfd6b9c9.html      75\n",
       "www.samstores.com/27bdfe6f227653d44a481ad7bf5cfc82.html      74\n",
       "www.samstores.com/0a33cb77e7005f315dfdc421ed396e57.html      74\n",
       "www.samstores.com/5e094f650ddb063a90a7fe1e5c96b3f3.html      74\n",
       "www.samstores.com/edc1d1e37a8e678d95171db0e6abecc8.html      74\n",
       "www.samstores.com/937b1197167d8ffceeff77f768cfa896.html      74\n",
       "www.samstores.com/14638592c57065355ac342e84a3fa82b.html      74\n",
       "www.samstores.com/9798a4bed273e1474710606377fd7c7b.html      73\n",
       "www.samstores.com/b5836afa7329e209746cfc2f0a8f8398.html      73\n",
       "                                                           ... \n",
       "www.samstores.com/0aab1fae19078ad50d3dc98d1d7eaae9.html      73\n",
       "www.samstores.com/4b6e9e9e7b500041270a8b9d5803f7e0.html      73\n",
       "www.defender.com/705ff6cc3c7247ac012d5dd7b1fc18e7.html       73\n",
       "www.samstores.com/4b5c9d71a59fed6a31498e13ad0b62ea.html      73\n",
       "www.samstores.com/2cdea8ee18c0d51a00fafdb89d191e2e.html      73\n",
       "www.samstores.com/fc5f705e3c6522a4061bd80535771d15.html      73\n",
       "www.samstores.com/d95c845a5b9b411075cf64082ca81f67.html      73\n",
       "www.samstores.com/50aee45e8540c8cc855b650f0e100fcd.html      73\n",
       "www.samstores.com/e07c5110db3a60e46e607070a60d247f.html      73\n",
       "www.samstores.com/8e9c28a0e02f495bfd651eeebc4d0c4a.html      73\n",
       "www.samstores.com/ec7fa421b8cef19a5d2283cf14cb200e.html      73\n",
       "www.samstores.com/701098d6007f2d6c4658a52a7420ee8f.html      71\n",
       "www.defender.com/cc8fc3a808211e6bdf4498a59c17f517.html       68\n",
       "www.defender.com/51a3b770182a5192ac76c0d1f72c596a.html       67\n",
       "www.samstores.com/56f799009193d5d5eeb8caa9e529161d.html      66\n",
       "www.denniskirk.com/b7ee764011d140acb9c7986fa315ca65.html     66\n",
       "www.samstores.com/64c3c4786ea154b15e8d202e12f9bb28.html      66\n",
       "www.denniskirk.com/41acc634cb6a58493ff9f82ce0d99adf.html     65\n",
       "www.denniskirk.com/4610938ed75a0d1263114bd4c6369c63.html     65\n",
       "www.samstores.com/6dd2da240b8a96b210e5912516447803.html      65\n",
       "www.denniskirk.com/9e523dc6a477f8f2c6a3b37c8388acc8.html     64\n",
       "www.denniskirk.com/c67186e5cfae13c98fb5a28253fa975d.html     64\n",
       "www.denniskirk.com/44bf1abbdb58a10a9e380967b8d154f5.html     64\n",
       "www.denniskirk.com/9131d82fbe90677f1edff827e4e015c6.html     64\n",
       "www.denniskirk.com/f39e579bb0de7e24e42d64b635bc8066.html     63\n",
       "www.denniskirk.com/e3640a7f1b11d0fc1b767c47bd1e926c.html     63\n",
       "www.denniskirk.com/186484ab444fdc0ba96b624d8e755b0f.html     63\n",
       "www.defender.com/cddf2e173ba7c76be0c3d2b7c548aa83.html       63\n",
       "www.defender.com/fe9bc37f8c6149d6b1a7fbbc8b5cb754.html       63\n",
       "www.denniskirk.com/17e48f0a55d86929d72e9023e660e115.html     63\n",
       "dtype: int64"
      ]
     },
     "execution_count": 141,
     "metadata": {},
     "output_type": "execute_result"
    }
   ],
   "source": [
    "IndixDM_Train_Text[IndixDM_Train_Text['label']=='no']['url'].value_counts().head(100)"
   ]
  },
  {
   "cell_type": "code",
   "execution_count": 142,
   "metadata": {
    "collapsed": false,
    "scrolled": false
   },
   "outputs": [
    {
     "data": {
      "text/plain": [
       "www.bhphotovideo.com/2108e1a8ffd2931cd3a822c270cab0c7.html    13\n",
       "www.bhphotovideo.com/b299cb546162757ddf1ffc9d3baee743.html    13\n",
       "www.jaycar.com.au/2ebfb15a76b9954fe312cea1e296482e.html       12\n",
       "www.tesco.com/99973be4d56e0c50ed901f062f5ef5b8.html           10\n",
       "www.tesco.com/0808dc0e17a9b7bc0117f69590d21e17.html           10\n",
       "www.pcworld.co.uk/78fda720b8b42b1641ce5208246f35d3.html        9\n",
       "www.tigergps.com/3adcb9a6e3c82f83b00e645d0466ab6e.html         9\n",
       "www.pcworld.co.uk/d34d79cd46291fd19165b39124621100.html        9\n",
       "www.pcworld.co.uk/c4115303a80721ea1375a6aaba1bc034.html        9\n",
       "www.tesco.com/1293c2535356d62038d2efa185023791.html            9\n",
       "www.pcworld.co.uk/7840c77f59ba4e188c0125174205a50f.html        9\n",
       "www.jaycar.com.au/de037edbeeee9afbaedef8d6f6ff9a85.html        8\n",
       "www.pcworld.co.uk/b864c55b47c618fca5a9f11dfdc6ed0e.html        8\n",
       "www.pcworld.co.uk/dc0931d67a373f2b565eebd4c99ccb77.html        8\n",
       "www.pcworld.co.uk/1c4b2db72d777fc22d4195738bda976a.html        8\n",
       "www.tesco.com/38bf55373e89bb38813aa205629b0713.html            7\n",
       "www.tesco.com/797ad2bae60a388fe4aa4b2e244d8752.html            7\n",
       "www.pcworld.co.uk/e82248186b72ce79eeb287d476b789ff.html        7\n",
       "www.jaycar.com.au/d8a0542abbd755f6f72863f118bcf37e.html        7\n",
       "www.tesco.com/84c34689b559e4dadad72edb8a3a4cd2.html            7\n",
       "www.pcworld.co.uk/7f41a4b46e10fa71c37d3af2f6c4768b.html        7\n",
       "www.tigerdirect.com/9ba80d097d8fa31396119f362caa35b8.html      7\n",
       "www.pcworld.co.uk/c71d19f9f85cb06fb2361625757e9b95.html        7\n",
       "www.jaycar.com.au/4135fe50ef2b01df1119ed5c48cfd2bf.html        7\n",
       "www.pcworld.co.uk/2108d9ee7159416307a4f2ee6a820279.html        7\n",
       "www.jaycar.com.au/a15b97b31e19f4e9d2ec1e8cdef5631a.html        7\n",
       "www.tesco.com/358459e6bceb5bf67faffee9839abb02.html            6\n",
       "www.bhphotovideo.com/85e285a0f8b14d443ec7052fd2e8b664.html     6\n",
       "www.bhphotovideo.com/02f62e1a73f5ff61cb63698ce798c022.html     6\n",
       "www.tesco.com/ea285ceb9c1f9707d82468ce1e8c8d53.html            6\n",
       "                                                              ..\n",
       "www.pcworld.co.uk/9a103077af78aa074a2c76ea3199ab28.html        5\n",
       "www.tesco.com/ab95bbd5c6bb0f0620b2151a13d57b74.html            5\n",
       "www.tesco.com/1f35ce7309640d1d9686ae958a1352b4.html            5\n",
       "www.boschtools.com/20e237274bd0a4e95e117876b8adee0e.html       5\n",
       "www.tesco.com/39c7bfbee62df7c7ee1d39e8676b0933.html            5\n",
       "www.tesco.com/7beef7a0b2ba39d0dc1c150f4c9584ac.html            5\n",
       "www.tesco.com/3110ea1cd05daefd84bc713fdde3986c.html            5\n",
       "www.jaycar.com.au/8477e813ab09a43f96548849b4d41335.html        5\n",
       "www.jaycar.com.au/88367adbf1b4d39ffb765a060cebb5c9.html        5\n",
       "www.tesco.com/8042d42e3045b2611ad1503ca202e5ef.html            5\n",
       "www.crutchfield.com/6edef13c256a864cba65fc38f9389f5e.html      5\n",
       "www.tesco.com/3e7eeddd9d058d782babc5048da339d4.html            5\n",
       "www.tesco.com/7eb30c6de324de9a6989da8abd183e73.html            5\n",
       "www.tesco.com/53e2158238039ec080e2e8143abf83eb.html            5\n",
       "www.pcworld.co.uk/16660900fa8d852d9b308bacb86bb04a.html        5\n",
       "www.tesco.com/ebd4fc35f7bc1b4d21ceff2a1aa72a54.html            5\n",
       "www.tesco.com/f18932af3c66cd4c93100fc2f352bab4.html            5\n",
       "www.bhphotovideo.com/5d4dee2aaa85f617d8a05dd9cf3c6501.html     5\n",
       "www.tesco.com/d48f6acd6753a35892913c15ae965720.html            5\n",
       "www.tesco.com/8c8c46b76452faaebf2d2f9039895f07.html            5\n",
       "www.jaycar.com.au/5593c1cac19b817c6568d7b44eb80f89.html        5\n",
       "www.tesco.com/e91009b380d865616a3d2f9158c76b55.html            5\n",
       "www.tesco.com/1bf7fc67d32433980345a79c7e5345be.html            5\n",
       "www.tesco.com/5f000b0af2dc2d78e29c3e1729505bc3.html            4\n",
       "www.boschtools.com/1b3fc7677b45f4d68fb1416691b34ce1.html       4\n",
       "www.pcworld.co.uk/0fcade6b8d1ba2071a67f340c694e689.html        4\n",
       "www.crutchfield.com/25ba134121a6bb29e80f1027c3161fcd.html      4\n",
       "www.tesco.com/326972169fff2f4c363d0490e0c28b5c.html            4\n",
       "www.jaycar.com.au/0b17c6b11d83a7ae1a60d20232013f17.html        4\n",
       "www.tesco.com/0caca183a9e856dedc515d0f467f5868.html            4\n",
       "dtype: int64"
      ]
     },
     "execution_count": 142,
     "metadata": {},
     "output_type": "execute_result"
    }
   ],
   "source": [
    "IndixDM_Train_Text[IndixDM_Train_Text['label']=='yes']['url'].value_counts().head(100)"
   ]
  },
  {
   "cell_type": "code",
   "execution_count": 17,
   "metadata": {
    "collapsed": false
   },
   "outputs": [
    {
     "data": {
      "text/plain": [
       "0    <table id=\"selectedProduct\">\\n<tr>\\n<th class=...\n",
       "1    <table id=\"completeProducts\">\\n<tr>\\n<th class...\n",
       "2    <table>\\n<tr>\\n<td class=\"search_msg\">\\n<!--be...\n",
       "3    <table id=\"selectedProduct\">\\n<tr>\\n<th class=...\n",
       "4    <table id=\"completeProducts\">\\n<tr>\\n<th class...\n",
       "Name: table-text, dtype: object"
      ]
     },
     "execution_count": 17,
     "metadata": {},
     "output_type": "execute_result"
    }
   ],
   "source": [
    "Indix_Train[Indix_Train['label']=='no']['table-text'].head()"
   ]
  },
  {
   "cell_type": "code",
   "execution_count": 6,
   "metadata": {
    "collapsed": false
   },
   "outputs": [
    {
     "data": {
      "text/plain": [
       "u'<table id=\"settings\">\\n<tr>\\n<th colspan=\"2\">\\n<h5>Setting Information</h5>\\n</th>\\n</tr>\\n<tr>\\n<td> Metal:</td>\\n<td>14K White Gold</td>\\n</tr>\\n<tr>\\n<td>Width:</td>\\n<td>2.2-1.9mm\\r\\n                  </td>\\n</tr>\\n<tr>\\n<td>\\r\\n                    # of Diamonds:\\r\\n                  </td>\\n<td class=\"Numeric\">36</td>\\n</tr>\\n<tr>\\n<td>Total carat (min):</td>\\n<td class=\"Numeric\">0.25</td>\\n</tr>\\n<tr>\\n<td>Average color:</td>\\n<td>F-G</td>\\n</tr>\\n<tr>\\n<td>Average clarity:</td>\\n<td>VS2- SI1</td>\\n</tr>\\n</table>'"
      ]
     },
     "execution_count": 6,
     "metadata": {},
     "output_type": "execute_result"
    }
   ],
   "source": [
    "#yes\n",
    "sample=Indix_Train['table-text'][1248]\n",
    "Indix_Train['table-text'][1248]"
   ]
  },
  {
   "cell_type": "code",
   "execution_count": 19,
   "metadata": {
    "collapsed": false
   },
   "outputs": [
    {
     "data": {
      "text/plain": [
       "'<table id=\"completeProducts\">\\n<tr>\\n<th class=\"left\"></th>\\n<th colspan=\"2\"><span>Accessories</span></th>\\n<th>Price</th>\\n<th></th>\\n<th class=\"qty\">qty</th>\\n</tr>\\n<!--begin_acc_row-->\\n<!--special_parse-->\\n<tr valign=\"top\">\\n<td><!-- --></td>\\n<td class=\"img\"><a href=\"/modperl/product/details.cgi?r=view&amp;i=39609\"><span id=\"acc_img\"> <!--requested size-%%%--><img alt=\"&amp;&amp;\" border=\"0\" css_style=\"\" src=\"//cdn.gandermountain.com/product/039/39609_L1.jpg?interpolation=lanczos-none&amp;downsize=50px:*\"/><!--using size-%%%-->\\n</span></a></td>\\n<td class=\"title\"><h3>Cover Up Boat Cover Support</h3>Item #39609<br/><a class=\"moreDetailsLink tipLink\" style=\"width: 80px;\" title=\"&lt;!--begin_acc_item_details--&gt;&lt;!--special_parse--&gt;&lt;div id=tipBody&gt;&lt;div class=title-info&gt;&lt;div class=product-title&gt;&lt;!-- C. Product Name --&gt;&lt;h1&gt;Cover Up Boat Cover Support&lt;/h1&gt;&lt;div class=description&gt;&lt;!-- G. Product bullets --&gt;&lt;ul class=left&gt;&lt;li&gt;&lt;p&gt;Extend the life of your boat cover&lt;/p&gt;&lt;/li&gt;&lt;li&gt;&lt;p&gt;Pole telescopes to 43&quot; high&lt;/p&gt;&lt;/li&gt;&lt;li&gt;&lt;p&gt;Fits most boats up to 22\\' long&lt;/p&gt;&lt;/li&gt;&lt;br /&gt;&lt;/ul&gt;&lt;/div&gt;&lt;!-- E. Product Reviews --&gt;&lt;div id=ratings&gt;&lt;/div&gt;&lt;/div&gt;&lt;/div&gt;&lt;!--end_acc_item_details--&gt;\">more details</a></td>\\n<td class=\"price\">\\n\\t\\t\\t\\t\\t\\t$39.99\\n\\t\\t\\t\\t\\t\\t\\n\\t\\t\\t\\t\\t\\t\\n\\t\\t\\t\\t\\t</td>\\n<td class=\"options\">\\n</td>\\n<td class=\"qty\" valign=\"top\">\\n<input class=\"quantity_input\" id=\"quan2\" maxlength=\"3\" name=\"quan2\" type=\"text\" value=\"0\"/>\\n<input name=\"acc_prod2\" type=\"hidden\" value=\"39609\"/>\\n<div class=\"availMsg\"><p class=\"stockstatusAcc\" id=\"stockstatusAcc2\"><span class=\"title\">Availability:</span><br/><span class=\"info\">In Stock</span></p></div>\\n</td>\\n</tr>\\n<!--end_acc_row-->\\n<tr>\\n<td class=\"totalText\" colspan=\"3\">\\xc2\\xa0</td>\\n<td class=\"totalPrice\">\\n<!-- R.7 Total Price -->\\n</td>\\n<td class=\"addSelected\" colspan=\"2\">\\n<!-- R.8 Add Selected Items to Cart -->\\n<input alt=\"Add Selected Items To Cart\" class=\"selected-enabled\" height=\"20\" id=\"selected-enabled\" src=\"/assets/images/common/add_selected_to_cart_btn.gif\" style=\"display:none\" type=\"image\" value=\"Add Selected Items To Cart\" width=\"176\"/>\\n<input alt=\"Add Selected Items To Cart\" class=\"selected-disabled\" height=\"20\" id=\"selected-disabled\" src=\"/assets/images/common/add_selected_to_cart_btn-disabled.gif\" type=\"image\" value=\"Add Selected Items To Cart\" width=\"176\"/>\\n</td>\\n</tr>\\n</table>'"
      ]
     },
     "execution_count": 19,
     "metadata": {},
     "output_type": "execute_result"
    }
   ],
   "source": [
    "#no\n",
    "Indix_Train['table-text'][1]"
   ]
  },
  {
   "cell_type": "code",
   "execution_count": 57,
   "metadata": {
    "collapsed": false
   },
   "outputs": [],
   "source": [
    "from HTMLParser import HTMLParser\n",
    "\n",
    "# create a subclass and override the handler methods\n",
    "class MyHTMLParser(HTMLParser):\n",
    "       def handle_data(self, data):\n",
    "        #print \"Encountered some data  :\", data\n",
    "        return data\n",
    "\n",
    "# instantiate the parser and fed it some HTML\n",
    "parser = MyHTMLParser()\n",
    "parser.feed('<html><head><title>Test</title></head>'\n",
    "            '<body><h1>Parse me!</h1></body></html>')"
   ]
  },
  {
   "cell_type": "code",
   "execution_count": 10,
   "metadata": {
    "collapsed": false
   },
   "outputs": [],
   "source": [
    "#parser.feed(sample)\n",
    "class HTMLTokens:\n",
    "    def __init__(self, text):\n",
    "        self.text = text\n",
    "        self.tokensList = []\n",
    "      \n",
    "        \n",
    "    def tokenizer(self):\n",
    "        #print \"In tokenizer :\",self.text\n",
    "        parser = MyHTMLParser()\n",
    "        self.tokensList.append(parser.feed(self.text))\n",
    "        self.tokensList=filter(None,self.tokensList)\n",
    "        return self.tokensList\n",
    "        \n",
    "token = HTMLTokens(sample)\n",
    "alltokens=token.tokenizer()\n",
    "#alltokens"
   ]
  },
  {
   "cell_type": "code",
   "execution_count": 58,
   "metadata": {
    "collapsed": false
   },
   "outputs": [
    {
     "data": {
      "text/plain": [
       "u'<table id=\"settings\">\\r\\n<tr>\\r\\n<th colspan=\"2\">\\r\\n<h5>Setting Information</h5>\\r\\n</th>\\r\\n</tr>\\r\\n<tr>\\r\\n<td> Metal:</td>\\r\\n<td>14K White Gold</td>\\r\\n</tr>\\r\\n<tr>\\r\\n<td>Width:</td>\\r\\n<td>2.2-1.9mm\\r\\r\\n                  </td>\\r\\n</tr>\\r\\n<tr>\\r\\n<td>\\r\\r\\n                    # of Diamonds:\\r\\r\\n                  </td>\\r\\n<td class=\"Numeric\">36</td>\\r\\n</tr>\\r\\n<tr>\\r\\n<td>Total carat (min):</td>\\r\\n<td class=\"Numeric\">0.25</td>\\r\\n</tr>\\r\\n<tr>\\r\\n<td>Average color:</td>\\r\\n<td>F-G</td>\\r\\n</tr>\\r\\n<tr>\\r\\n<td>Average clarity:</td>\\r\\n<td>VS2- SI1</td>\\r\\n</tr>\\r\\n</table>'"
      ]
     },
     "execution_count": 58,
     "metadata": {},
     "output_type": "execute_result"
    }
   ],
   "source": [
    "sample=fullDataText['table-text'][1248]\n",
    "sample"
   ]
  },
  {
   "cell_type": "code",
   "execution_count": 59,
   "metadata": {
    "collapsed": false,
    "scrolled": true
   },
   "outputs": [],
   "source": [
    "a=parser.feed(sample)\n",
    "a"
   ]
  },
  {
   "cell_type": "code",
   "execution_count": 60,
   "metadata": {
    "collapsed": false
   },
   "outputs": [
    {
     "name": "stdout",
     "output_type": "stream",
     "text": [
      "[u'Setting Information', u'Metal:', u'14K White Gold', u'Width:', u'2.2-1.9mm', u'# of Diamonds:', u'36', u'Total carat (min):', u'0.25', u'Average color:', u'F-G', u'Average clarity:', u'VS2- SI1']\n"
     ]
    }
   ],
   "source": [
    "from HTMLParser import HTMLParser\n",
    "\n",
    "pstring = sample\n",
    "\n",
    "\n",
    "class myhtmlparser(HTMLParser):\n",
    "    def __init__(self):\n",
    "        self.reset()\n",
    "        self.HTMLDATA = []\n",
    "    def handle_data(self, data):\n",
    "        self.HTMLDATA.append(data.strip(' \\n\\t\\r'))\n",
    "\n",
    "    def clean(self):\n",
    "        self.HTMLDATA = []\n",
    "\n",
    "parser = myhtmlparser()\n",
    "parser.feed(pstring)\n",
    "\n",
    "# Extract data from parser\n",
    "data  = parser.HTMLDATA\n",
    "\n",
    "#remove invalids\n",
    "data=filter(None,data)\n",
    "# Clean the parser\n",
    "parser.clean()\n",
    "\n",
    "# Print out our data\n",
    "\n",
    "print data"
   ]
  },
  {
   "cell_type": "code",
   "execution_count": 14,
   "metadata": {
    "collapsed": false
   },
   "outputs": [
    {
     "data": {
      "text/plain": [
       "0    <table id=\"selectedProduct\">\\n<tr>\\n<th class=...\n",
       "1    <table id=\"completeProducts\">\\n<tr>\\n<th class...\n",
       "2    <table>\\n<tr>\\n<td class=\"search_msg\">\\n<!--be...\n",
       "3    <table id=\"selectedProduct\">\\n<tr>\\n<th class=...\n",
       "4    <table id=\"completeProducts\">\\n<tr>\\n<th class...\n",
       "Name: table-text, dtype: object"
      ]
     },
     "execution_count": 14,
     "metadata": {},
     "output_type": "execute_result"
    }
   ],
   "source": [
    "Indix_Sample=Indix_Train.head()\n",
    "Indix_Sample['table-text']"
   ]
  },
  {
   "cell_type": "code",
   "execution_count": 15,
   "metadata": {
    "collapsed": false,
    "scrolled": true
   },
   "outputs": [
    {
     "name": "stdout",
     "output_type": "stream",
     "text": [
      "(0, u'no', u'<table id=\"selectedProduct\">\\n<tr>\\n<th class=\"left\"></th>\\n<th class=\"title\" colspan=\"2\">Selected Product</th>\\n<th>Price</th>\\n<th>Make Selections</th>\\n<th>qty</th>\\n<th class=\"link\"><a class=\"backtotop\" href=\"#\" id=\"btt\">back to top</a></th>\\n</tr>\\n<tr valign=\"top\">\\n<td></td>\\n<td class=\"img\"> <!--requested size-%%%--><img alt=\"&amp;&amp;\" border=\"0\" css_style=\"\" src=\"//cdn.gandermountain.com/product/746/swatches/746134_AQUA_1.jpg?interpolation=lanczos-none&amp;downsize=50px:*\"/><!--using size-%%%-->\\n</td>\\n<td class=\"title\">\\n<h1>CORRCTCRAFT NTIQUE EXCEL BR DNT COVER</h1>\\n<p class=\"item\">Item # 746134</p>\\n</td>\\n<td class=\"price\">\\n<!--begin_item_pricing-->\\n<!--special_parse-->\\n<div class=\"price\"> \\xa0<span class=\"regstrk\">$730.99</span></div>\\n<div class=\"saleprice\"> \\xa0<span>$621.34</span></div>\\n<!--end_item_pricing-->\\n</td>\\n<td class=\"options\">\\n<!--begin_lower_selects-->\\n<!--special_parse-->\\n<div class=\"attributes\">\\n<!--begin_select_style_box-->\\n<!-- if selection is required -->\\n<div class=\"requiredAttr\">*</div><div class=\"attrRequired\"><select class=\"required_field\" id=\"lwrstyle1val1\" name=\"lwrstyle1val1\">\\n<option selected=\"selected\" value=\"\">Color</option>\\n<option value=\"Aqua\">Aqua - $621.34</option>\\n<option value=\"PacificBlue\">PacificBlue - $621.34</option>\\n<option value=\"Linen\">Linen - $621.34</option>\\n<option value=\"Gray\">Gray - $621.34</option>\\n<option value=\"Burgundy\">Burgundy - $621.34</option>\\n<option value=\"Black\">Black - $621.34</option>\\n<option value=\"Navy\">Navy - $621.34</option>\\n<option value=\"Natural\">Natural - $621.34</option>\\n<option value=\"Red\">Red - $621.34</option>\\n<option value=\"Forest Green\">Forest Green - $621.34</option>\\n</select></div>\\n<div style=\"clear: both; padding: 5px 0;\"></div>\\n<!--end_select_style_box-->\\n<div style=\"clear: both; padding: 5px 0;\">\\n<div class=\"requiredText\">*required</div>\\n</div>\\n</div>\\n<!--end_lower_selects-->\\n</td>\\n<td class=\"qty\" colspan=\"2\" valign=\"top\">\\n<!-- R.3 Editable Quantity Field -->\\n<input class=\"ignore quantity_input\" id=\"selectedQty\" maxlength=\"3\" name=\"quan1\" type=\"text\" value=\"0\">\\n<!-- R.4 Availability - should update w/ selection or show \"Make selections to see stock information\" -->\\n<div class=\"availMsg\">\\n<p class=\"stockstatus\"><span class=\"title\">Availability:</span><br/><span class=\"info\">Make Selections</span></p>\\n</div>\\n</input></td>\\n</tr>\\n</table>', u'www.gandermountain.com/68a52b85e5089394e34f1bcb7aeddb63.html')\n",
      "(1, u'no', u'<table id=\"completeProducts\">\\n<tr>\\n<th class=\"left\"></th>\\n<th colspan=\"2\"><span>Accessories</span></th>\\n<th>Price</th>\\n<th></th>\\n<th class=\"qty\">qty</th>\\n</tr>\\n<!--begin_acc_row-->\\n<!--special_parse-->\\n<tr valign=\"top\">\\n<td><!-- --></td>\\n<td class=\"img\"><a href=\"/modperl/product/details.cgi?r=view&amp;i=39609\"><span id=\"acc_img\"> <!--requested size-%%%--><img alt=\"&amp;&amp;\" border=\"0\" css_style=\"\" src=\"//cdn.gandermountain.com/product/039/39609_L1.jpg?interpolation=lanczos-none&amp;downsize=50px:*\"/><!--using size-%%%-->\\n</span></a></td>\\n<td class=\"title\"><h3>Cover Up Boat Cover Support</h3>Item #39609<br/><a class=\"moreDetailsLink tipLink\" style=\"width: 80px;\" title=\"&lt;!--begin_acc_item_details--&gt;&lt;!--special_parse--&gt;&lt;div id=tipBody&gt;&lt;div class=title-info&gt;&lt;div class=product-title&gt;&lt;!-- C. Product Name --&gt;&lt;h1&gt;Cover Up Boat Cover Support&lt;/h1&gt;&lt;div class=description&gt;&lt;!-- G. Product bullets --&gt;&lt;ul class=left&gt;&lt;li&gt;&lt;p&gt;Extend the life of your boat cover&lt;/p&gt;&lt;/li&gt;&lt;li&gt;&lt;p&gt;Pole telescopes to 43&quot; high&lt;/p&gt;&lt;/li&gt;&lt;li&gt;&lt;p&gt;Fits most boats up to 22\\' long&lt;/p&gt;&lt;/li&gt;&lt;br /&gt;&lt;/ul&gt;&lt;/div&gt;&lt;!-- E. Product Reviews --&gt;&lt;div id=ratings&gt;&lt;/div&gt;&lt;/div&gt;&lt;/div&gt;&lt;!--end_acc_item_details--&gt;\">more details</a></td>\\n<td class=\"price\">\\n\\t\\t\\t\\t\\t\\t$39.99\\n\\t\\t\\t\\t\\t\\t\\n\\t\\t\\t\\t\\t\\t\\n\\t\\t\\t\\t\\t</td>\\n<td class=\"options\">\\n</td>\\n<td class=\"qty\" valign=\"top\">\\n<input class=\"quantity_input\" id=\"quan2\" maxlength=\"3\" name=\"quan2\" type=\"text\" value=\"0\"/>\\n<input name=\"acc_prod2\" type=\"hidden\" value=\"39609\"/>\\n<div class=\"availMsg\"><p class=\"stockstatusAcc\" id=\"stockstatusAcc2\"><span class=\"title\">Availability:</span><br/><span class=\"info\">In Stock</span></p></div>\\n</td>\\n</tr>\\n<!--end_acc_row-->\\n<tr>\\n<td class=\"totalText\" colspan=\"3\">\\xa0</td>\\n<td class=\"totalPrice\">\\n<!-- R.7 Total Price -->\\n</td>\\n<td class=\"addSelected\" colspan=\"2\">\\n<!-- R.8 Add Selected Items to Cart -->\\n<input alt=\"Add Selected Items To Cart\" class=\"selected-enabled\" height=\"20\" id=\"selected-enabled\" src=\"/assets/images/common/add_selected_to_cart_btn.gif\" style=\"display:none\" type=\"image\" value=\"Add Selected Items To Cart\" width=\"176\"/>\\n<input alt=\"Add Selected Items To Cart\" class=\"selected-disabled\" height=\"20\" id=\"selected-disabled\" src=\"/assets/images/common/add_selected_to_cart_btn-disabled.gif\" type=\"image\" value=\"Add Selected Items To Cart\" width=\"176\"/>\\n</td>\\n</tr>\\n</table>', u'www.gandermountain.com/68a52b85e5089394e34f1bcb7aeddb63.html')\n",
      "(2, u'no', u'<table>\\n<tr>\\n<td class=\"search_msg\">\\n<!--begin_not_found-->\\r\\nSorry, we could not find this item - \"38936\".\\r\\n<!--end_not_found-->\\n</td>\\n</tr>\\n</table>', u'www.gandermountain.com/f494618f406eddbb0c3b696a213f5bb0.html')\n",
      "(3, u'no', u'<table id=\"selectedProduct\">\\n<tr>\\n<th class=\"left\"></th>\\n<th class=\"title\" colspan=\"2\">Selected Product</th>\\n<th>Price</th>\\n<th>Make Selections</th>\\n<th>qty</th>\\n<th class=\"link\"><a class=\"backtotop\" href=\"#\" id=\"btt\">back to top</a></th>\\n</tr>\\n<tr valign=\"top\">\\n<td></td>\\n<td class=\"img\"> <!--requested size-%%%--><img alt=\"&amp;&amp;\" border=\"0\" css_style=\"\" src=\"//cdn.gandermountain.com/product/734/swatches/734396_BLU_1.jpg?interpolation=lanczos-none&amp;downsize=50px:*\"/><!--using size-%%%-->\\n</td>\\n<td class=\"title\">\\n<h1>MAKO 17 MAKO CENTER CONSOLE O/B</h1>\\n<p class=\"item\">Item # 734396</p>\\n</td>\\n<td class=\"price\">\\n<!--begin_item_pricing-->\\n<!--special_parse-->\\n<div class=\"price\"> \\xa0<span class=\"regstrk\">$373.99</span></div>\\n<div class=\"saleprice\"> \\xa0<span>$336.59</span></div>\\n<!--end_item_pricing-->\\n</td>\\n<td class=\"options\">\\n<!--begin_lower_selects-->\\n<!--special_parse-->\\n<div class=\"attributes\">\\n<!--begin_select_style_box-->\\n<!-- if selection is required -->\\n<div class=\"requiredAttr\">*</div><div class=\"attrRequired\"><select class=\"required_field\" id=\"lwrstyle1val1\" name=\"lwrstyle1val1\">\\n<option selected=\"selected\" value=\"\">Color</option>\\n<option value=\"Blue\">Blue - $336.59</option>\\n<option value=\"Cranberry\">Cranberry - $336.59</option>\\n<option value=\"Green\">Green - $336.59</option>\\n<option value=\"Gray\">Gray - $336.59</option>\\n<option value=\"Navy\">Navy - $336.59</option>\\n<option value=\"Teal\">Teal - $336.59</option>\\n</select></div>\\n<div style=\"clear: both; padding: 5px 0;\"></div>\\n<!--end_select_style_box-->\\n<div style=\"clear: both; padding: 5px 0;\">\\n<div class=\"requiredText\">*required</div>\\n</div>\\n</div>\\n<!--end_lower_selects-->\\n</td>\\n<td class=\"qty\" colspan=\"2\" valign=\"top\">\\n<!-- R.3 Editable Quantity Field -->\\n<input class=\"ignore quantity_input\" id=\"selectedQty\" maxlength=\"3\" name=\"quan1\" type=\"text\" value=\"0\">\\n<!-- R.4 Availability - should update w/ selection or show \"Make selections to see stock information\" -->\\n<div class=\"availMsg\">\\n<p class=\"stockstatus\"><span class=\"title\">Availability:</span><br/><span class=\"info\">Make Selections</span></p>\\n</div>\\n</input></td>\\n</tr>\\n</table>', u'www.gandermountain.com/7ce730e8cb3fe5244ffa8c243fb5630d.html')\n",
      "(4, u'no', u'<table id=\"completeProducts\">\\n<tr>\\n<th class=\"left\"></th>\\n<th colspan=\"2\"><span>Accessories</span></th>\\n<th>Price</th>\\n<th></th>\\n<th class=\"qty\">qty</th>\\n</tr>\\n<!--begin_acc_row-->\\n<!--special_parse-->\\n<tr valign=\"top\">\\n<td><!-- --></td>\\n<td class=\"img\"><a href=\"/modperl/product/details.cgi?r=view&amp;i=39609\"><span id=\"acc_img\"> <!--requested size-%%%--><img alt=\"&amp;&amp;\" border=\"0\" css_style=\"\" src=\"//cdn.gandermountain.com/product/039/39609_L1.jpg?interpolation=lanczos-none&amp;downsize=50px:*\"/><!--using size-%%%-->\\n</span></a></td>\\n<td class=\"title\"><h3>Cover Up Boat Cover Support</h3>Item #39609<br/><a class=\"moreDetailsLink tipLink\" style=\"width: 80px;\" title=\"&lt;!--begin_acc_item_details--&gt;&lt;!--special_parse--&gt;&lt;div id=tipBody&gt;&lt;div class=title-info&gt;&lt;div class=product-title&gt;&lt;!-- C. Product Name --&gt;&lt;h1&gt;Cover Up Boat Cover Support&lt;/h1&gt;&lt;div class=description&gt;&lt;!-- G. Product bullets --&gt;&lt;ul class=left&gt;&lt;li&gt;&lt;p&gt;Extend the life of your boat cover&lt;/p&gt;&lt;/li&gt;&lt;li&gt;&lt;p&gt;Pole telescopes to 43&quot; high&lt;/p&gt;&lt;/li&gt;&lt;li&gt;&lt;p&gt;Fits most boats up to 22\\' long&lt;/p&gt;&lt;/li&gt;&lt;br /&gt;&lt;/ul&gt;&lt;/div&gt;&lt;!-- E. Product Reviews --&gt;&lt;div id=ratings&gt;&lt;/div&gt;&lt;/div&gt;&lt;/div&gt;&lt;!--end_acc_item_details--&gt;\">more details</a></td>\\n<td class=\"price\">\\n\\t\\t\\t\\t\\t\\t$39.99\\n\\t\\t\\t\\t\\t\\t\\n\\t\\t\\t\\t\\t\\t\\n\\t\\t\\t\\t\\t</td>\\n<td class=\"options\">\\n</td>\\n<td class=\"qty\" valign=\"top\">\\n<input class=\"quantity_input\" id=\"quan2\" maxlength=\"3\" name=\"quan2\" type=\"text\" value=\"0\"/>\\n<input name=\"acc_prod2\" type=\"hidden\" value=\"39609\"/>\\n<div class=\"availMsg\"><p class=\"stockstatusAcc\" id=\"stockstatusAcc2\"><span class=\"title\">Availability:</span><br/><span class=\"info\">In Stock</span></p></div>\\n</td>\\n</tr>\\n<!--end_acc_row-->\\n<tr>\\n<td class=\"totalText\" colspan=\"3\">\\xa0</td>\\n<td class=\"totalPrice\">\\n<!-- R.7 Total Price -->\\n</td>\\n<td class=\"addSelected\" colspan=\"2\">\\n<!-- R.8 Add Selected Items to Cart -->\\n<input alt=\"Add Selected Items To Cart\" class=\"selected-enabled\" height=\"20\" id=\"selected-enabled\" src=\"/assets/images/common/add_selected_to_cart_btn.gif\" style=\"display:none\" type=\"image\" value=\"Add Selected Items To Cart\" width=\"176\"/>\\n<input alt=\"Add Selected Items To Cart\" class=\"selected-disabled\" height=\"20\" id=\"selected-disabled\" src=\"/assets/images/common/add_selected_to_cart_btn-disabled.gif\" type=\"image\" value=\"Add Selected Items To Cart\" width=\"176\"/>\\n</td>\\n</tr>\\n</table>', u'www.gandermountain.com/7ce730e8cb3fe5244ffa8c243fb5630d.html')\n"
     ]
    }
   ],
   "source": [
    "for ir in Indix_Sample.itertuples():\n",
    "    print(ir[0],ir[1],ir[2],ir[3])"
   ]
  },
  {
   "cell_type": "code",
   "execution_count": 16,
   "metadata": {
    "collapsed": false
   },
   "outputs": [
    {
     "name": "stdout",
     "output_type": "stream",
     "text": [
      "www.gandermountain.com/68a52b85e5089394e34f1bcb7aeddb63.html\n",
      "www.gandermountain.com/68a52b85e5089394e34f1bcb7aeddb63.html\n",
      "www.gandermountain.com/f494618f406eddbb0c3b696a213f5bb0.html\n",
      "www.gandermountain.com/7ce730e8cb3fe5244ffa8c243fb5630d.html\n",
      "www.gandermountain.com/7ce730e8cb3fe5244ffa8c243fb5630d.html\n"
     ]
    }
   ],
   "source": [
    "for r in zip(Indix_Sample['table-text'],Indix_Sample['label'],Indix_Sample['url']):\n",
    "    print((r[2]))"
   ]
  },
  {
   "cell_type": "code",
   "execution_count": 24,
   "metadata": {
    "collapsed": false,
    "scrolled": true
   },
   "outputs": [
    {
     "name": "stdout",
     "output_type": "stream",
     "text": [
      "--- 586.861999989 seconds ---\n"
     ]
    }
   ],
   "source": [
    "import time\n",
    "start_time = time.time()\n",
    "import re\n",
    "delimiters = \"/\"\n",
    "regexPattern = '|'.join(map(re.escape, delimiters))\n",
    "#Indix_Done=[]\n",
    "#initializing parser\n",
    "parser = myhtmlparser()\n",
    "count_done=0\n",
    "#existing columns ---Index([u'label', u'table-text', u'url'], dtype='object')\n",
    "#adding ten columns with tokens obtained\n",
    "try:\n",
    "    for r in zip(Indix_Train['table-text'],Indix_Train['label'],Indix_Train['url']):\n",
    "        if(count_done>45362):\n",
    "            parser.feed(r[0])\n",
    "            # Extract data from parser\n",
    "            data  = parser.HTMLDATA\n",
    "            #remove invalids\n",
    "            data=filter(None,data)\n",
    "            root  = re.split(regexPattern, r[2])\n",
    "\n",
    "            if (len(data)<10):\n",
    "                    data[len(data):11]=[u'None',u'None',u'None',u'None',u'None',u'None',u'None',u'None',u'None',u'None',u'None']\n",
    "            #remove invalids\n",
    "            data=filter(None,data)\n",
    "            Indix_Done.append({'label':r[1],\n",
    "                                'table-text':r[0],\n",
    "                                'url':r[2],\n",
    "                                'root':root[0],\n",
    "                                'V1':data[0],\n",
    "                                'V2':data[1],\n",
    "                                'V3':data[2],\n",
    "                                'V4':data[3],\n",
    "                                'V5':data[4],\n",
    "                                'V6':data[5],\n",
    "                                'V7':data[6],\n",
    "                                'V8':data[7],\n",
    "                                'V9':data[8],\n",
    "                                'V10':data[9]\n",
    "                                })\n",
    "        count_done=count_done+1\n",
    "        # Clean the parser\n",
    "        parser.clean()\n",
    "except Exception:\n",
    "    print (\"In Excception Block\",count_done)\n",
    "    pass\n",
    "print(\"--- %s seconds ---\" % (time.time() - start_time))"
   ]
  },
  {
   "cell_type": "code",
   "execution_count": 146,
   "metadata": {
    "collapsed": false
   },
   "outputs": [
    {
     "data": {
      "text/plain": [
       "0    www.gandermountain.com/68a52b85e5089394e34f1bc...\n",
       "1    www.gandermountain.com/68a52b85e5089394e34f1bc...\n",
       "2    www.gandermountain.com/f494618f406eddbb0c3b696...\n",
       "3    www.gandermountain.com/7ce730e8cb3fe5244ffa8c2...\n",
       "4    www.gandermountain.com/7ce730e8cb3fe5244ffa8c2...\n",
       "Name: url, dtype: object"
      ]
     },
     "execution_count": 146,
     "metadata": {},
     "output_type": "execute_result"
    }
   ],
   "source": [
    "IndixDM_Train_Text['url'].head()"
   ]
  },
  {
   "cell_type": "code",
   "execution_count": 149,
   "metadata": {
    "collapsed": false
   },
   "outputs": [
    {
     "name": "stdout",
     "output_type": "stream",
     "text": [
      "--- 1.14499998093 seconds ---\n"
     ]
    }
   ],
   "source": [
    "import time\n",
    "start_time = time.time()\n",
    "import re\n",
    "delimiters = \"/\"\n",
    "regexPattern = '|'.join(map(re.escape, delimiters))\n",
    "Rooturl=[]\n",
    "count_done=0\n",
    "try:\n",
    "    for r in zip(IndixDM_Train_Text['url']):\n",
    "            root  = re.split(regexPattern, r[0])\n",
    "            Rooturl.append({'Root':root[0]})\n",
    "            count_done=count_done+1\n",
    "except Exception:\n",
    "    print (\"In Excception Block\",count_done)\n",
    "    pass\n",
    "print(\"--- %s seconds ---\" % (time.time() - start_time))            \n"
   ]
  },
  {
   "cell_type": "code",
   "execution_count": 174,
   "metadata": {
    "collapsed": false
   },
   "outputs": [
    {
     "data": {
      "text/html": [
       "<div>\n",
       "<table border=\"1\" class=\"dataframe\">\n",
       "  <thead>\n",
       "    <tr style=\"text-align: right;\">\n",
       "      <th></th>\n",
       "      <th>url</th>\n",
       "      <th>site</th>\n",
       "    </tr>\n",
       "  </thead>\n",
       "  <tbody>\n",
       "    <tr>\n",
       "      <th>91845</th>\n",
       "      <td>www.cvs.com/4cba8cc8829314709553e9bf89975579.html</td>\n",
       "      <td>www.cvs.com</td>\n",
       "    </tr>\n",
       "    <tr>\n",
       "      <th>91846</th>\n",
       "      <td>www.macconnection.com/0b2ca90e4a837a6c0b089cd8...</td>\n",
       "      <td>www.macconnection.com</td>\n",
       "    </tr>\n",
       "    <tr>\n",
       "      <th>91847</th>\n",
       "      <td>www.macconnection.com/0b2ca90e4a837a6c0b089cd8...</td>\n",
       "      <td>www.macconnection.com</td>\n",
       "    </tr>\n",
       "    <tr>\n",
       "      <th>91848</th>\n",
       "      <td>www.macconnection.com/4e0c786a424fa3816f5ae9ef...</td>\n",
       "      <td>www.macconnection.com</td>\n",
       "    </tr>\n",
       "    <tr>\n",
       "      <th>91849</th>\n",
       "      <td>www.macconnection.com/4e0c786a424fa3816f5ae9ef...</td>\n",
       "      <td>www.macconnection.com</td>\n",
       "    </tr>\n",
       "  </tbody>\n",
       "</table>\n",
       "</div>"
      ],
      "text/plain": [
       "                                                     url  \\\n",
       "91845  www.cvs.com/4cba8cc8829314709553e9bf89975579.html   \n",
       "91846  www.macconnection.com/0b2ca90e4a837a6c0b089cd8...   \n",
       "91847  www.macconnection.com/0b2ca90e4a837a6c0b089cd8...   \n",
       "91848  www.macconnection.com/4e0c786a424fa3816f5ae9ef...   \n",
       "91849  www.macconnection.com/4e0c786a424fa3816f5ae9ef...   \n",
       "\n",
       "                        site  \n",
       "91845            www.cvs.com  \n",
       "91846  www.macconnection.com  \n",
       "91847  www.macconnection.com  \n",
       "91848  www.macconnection.com  \n",
       "91849  www.macconnection.com  "
      ]
     },
     "execution_count": 174,
     "metadata": {},
     "output_type": "execute_result"
    }
   ],
   "source": [
    "IndixDM_Test_Text[['url','site']].head()"
   ]
  },
  {
   "cell_type": "code",
   "execution_count": 151,
   "metadata": {
    "collapsed": false
   },
   "outputs": [
    {
     "name": "stdout",
     "output_type": "stream",
     "text": [
      "--- 0.214999914169 seconds ---\n"
     ]
    }
   ],
   "source": [
    "import time\n",
    "start_time = time.time()\n",
    "import re\n",
    "delimiters = \"/\"\n",
    "regexPattern = '|'.join(map(re.escape, delimiters))\n",
    "RooturlTest=[]\n",
    "count_done=0\n",
    "try:\n",
    "    for r in zip(IndixDM_Test_Text['url']):\n",
    "            root  = re.split(regexPattern, r[0])\n",
    "            RooturlTest.append({'Root':root[0]})\n",
    "            count_done=count_done+1\n",
    "except Exception:\n",
    "    print (\"In Excception Block\",count_done)\n",
    "    pass\n",
    "print(\"--- %s seconds ---\" % (time.time() - start_time))            \n"
   ]
  },
  {
   "cell_type": "code",
   "execution_count": 43,
   "metadata": {
    "collapsed": false
   },
   "outputs": [
    {
     "name": "stdout",
     "output_type": "stream",
     "text": [
      "--- 1.27999997139 seconds ---\n"
     ]
    }
   ],
   "source": [
    "import time\n",
    "start_time = time.time()\n",
    "import re\n",
    "delimiters = \"/\"\n",
    "regexPattern = '|'.join(map(re.escape, delimiters))\n",
    "Rooturl=[]\n",
    "count_done=0\n",
    "try:\n",
    "    for r in zip(fullDataText['url'],fullDataText['label']):\n",
    "            root  = re.split(regexPattern, r[0])\n",
    "            Rooturl.append({'Root':root[0],\n",
    "                                 'id':r[1]})\n",
    "            count_done=count_done+1\n",
    "except Exception:\n",
    "    print (\"In Excception Block\",count_done)\n",
    "    pass\n",
    "print(\"--- %s seconds ---\" % (time.time() - start_time))    "
   ]
  },
  {
   "cell_type": "code",
   "execution_count": 44,
   "metadata": {
    "collapsed": false
   },
   "outputs": [
    {
     "data": {
      "text/plain": [
       "103687"
      ]
     },
     "execution_count": 44,
     "metadata": {},
     "output_type": "execute_result"
    }
   ],
   "source": [
    "len(Rooturl)"
   ]
  },
  {
   "cell_type": "code",
   "execution_count": 45,
   "metadata": {
    "collapsed": false
   },
   "outputs": [
    {
     "data": {
      "text/plain": [
       "103687"
      ]
     },
     "execution_count": 45,
     "metadata": {},
     "output_type": "execute_result"
    }
   ],
   "source": [
    "fullDataRoot=pd.DataFrame.from_records(Rooturl)\n",
    "fullDataRoot.shape[0]"
   ]
  },
  {
   "cell_type": "code",
   "execution_count": 46,
   "metadata": {
    "collapsed": false
   },
   "outputs": [
    {
     "data": {
      "text/html": [
       "<div>\n",
       "<table border=\"1\" class=\"dataframe\">\n",
       "  <thead>\n",
       "    <tr style=\"text-align: right;\">\n",
       "      <th></th>\n",
       "      <th>Root</th>\n",
       "      <th>id</th>\n",
       "    </tr>\n",
       "  </thead>\n",
       "  <tbody>\n",
       "    <tr>\n",
       "      <th>0</th>\n",
       "      <td>www.gandermountain.com</td>\n",
       "      <td>no</td>\n",
       "    </tr>\n",
       "    <tr>\n",
       "      <th>1</th>\n",
       "      <td>www.gandermountain.com</td>\n",
       "      <td>no</td>\n",
       "    </tr>\n",
       "  </tbody>\n",
       "</table>\n",
       "</div>"
      ],
      "text/plain": [
       "                     Root  id\n",
       "0  www.gandermountain.com  no\n",
       "1  www.gandermountain.com  no"
      ]
     },
     "execution_count": 46,
     "metadata": {},
     "output_type": "execute_result"
    }
   ],
   "source": [
    "fullDataRoot.head(2)"
   ]
  },
  {
   "cell_type": "code",
   "execution_count": 47,
   "metadata": {
    "collapsed": false
   },
   "outputs": [],
   "source": [
    "fullDataText['Root']=fullDataRoot['Root']"
   ]
  },
  {
   "cell_type": "code",
   "execution_count": 21,
   "metadata": {
    "collapsed": false
   },
   "outputs": [
    {
     "data": {
      "text/html": [
       "<div>\n",
       "<table border=\"1\" class=\"dataframe\">\n",
       "  <thead>\n",
       "    <tr style=\"text-align: right;\">\n",
       "      <th></th>\n",
       "      <th>V1</th>\n",
       "      <th>V10</th>\n",
       "      <th>V2</th>\n",
       "      <th>V3</th>\n",
       "      <th>V4</th>\n",
       "      <th>V5</th>\n",
       "      <th>V6</th>\n",
       "      <th>V7</th>\n",
       "      <th>V8</th>\n",
       "      <th>V9</th>\n",
       "      <th>id</th>\n",
       "      <th>label</th>\n",
       "      <th>site</th>\n",
       "      <th>table-text</th>\n",
       "      <th>url</th>\n",
       "      <th>Root</th>\n",
       "    </tr>\n",
       "  </thead>\n",
       "  <tbody>\n",
       "    <tr>\n",
       "      <th>0</th>\n",
       "      <td>Selected Product</td>\n",
       "      <td></td>\n",
       "      <td>Price</td>\n",
       "      <td>Make Selections</td>\n",
       "      <td>qty</td>\n",
       "      <td>back to top</td>\n",
       "      <td>CORRCTCRAFT NTIQUE EXCEL BR DNT COVER</td>\n",
       "      <td>Item # 746134</td>\n",
       "      <td></td>\n",
       "      <td>$730.99</td>\n",
       "      <td>Train</td>\n",
       "      <td>no</td>\n",
       "      <td>Train</td>\n",
       "      <td>&lt;table id=\"selectedProduct\"&gt;\\r\\n&lt;tr&gt;\\r\\n&lt;th cl...</td>\n",
       "      <td>www.gandermountain.com/68a52b85e5089394e34f1bc...</td>\n",
       "      <td>www.gandermountain.com</td>\n",
       "    </tr>\n",
       "    <tr>\n",
       "      <th>1</th>\n",
       "      <td>Selected Product</td>\n",
       "      <td></td>\n",
       "      <td>Price</td>\n",
       "      <td>Make Selections</td>\n",
       "      <td>qty</td>\n",
       "      <td>back to top</td>\n",
       "      <td>CORRCTCRAFT NTIQUE EXCEL BR DNT COVER</td>\n",
       "      <td>Item # 746134</td>\n",
       "      <td></td>\n",
       "      <td>$730.99</td>\n",
       "      <td>Train</td>\n",
       "      <td>no</td>\n",
       "      <td>Train</td>\n",
       "      <td>&lt;table id=\"completeProducts\"&gt;\\r\\n&lt;tr&gt;\\r\\n&lt;th c...</td>\n",
       "      <td>www.gandermountain.com/68a52b85e5089394e34f1bc...</td>\n",
       "      <td>www.gandermountain.com</td>\n",
       "    </tr>\n",
       "  </tbody>\n",
       "</table>\n",
       "</div>"
      ],
      "text/plain": [
       "                 V1 V10     V2               V3   V4           V5  \\\n",
       "0  Selected Product      Price  Make Selections  qty  back to top   \n",
       "1  Selected Product      Price  Make Selections  qty  back to top   \n",
       "\n",
       "                                      V6             V7 V8       V9     id  \\\n",
       "0  CORRCTCRAFT NTIQUE EXCEL BR DNT COVER  Item # 746134     $730.99  Train   \n",
       "1  CORRCTCRAFT NTIQUE EXCEL BR DNT COVER  Item # 746134     $730.99  Train   \n",
       "\n",
       "  label   site                                         table-text  \\\n",
       "0    no  Train  <table id=\"selectedProduct\">\\r\\n<tr>\\r\\n<th cl...   \n",
       "1    no  Train  <table id=\"completeProducts\">\\r\\n<tr>\\r\\n<th c...   \n",
       "\n",
       "                                                 url                    Root  \n",
       "0  www.gandermountain.com/68a52b85e5089394e34f1bc...  www.gandermountain.com  \n",
       "1  www.gandermountain.com/68a52b85e5089394e34f1bc...  www.gandermountain.com  "
      ]
     },
     "execution_count": 21,
     "metadata": {},
     "output_type": "execute_result"
    }
   ],
   "source": [
    "fullDataText.head(2)"
   ]
  },
  {
   "cell_type": "code",
   "execution_count": 37,
   "metadata": {
    "collapsed": false,
    "scrolled": true
   },
   "outputs": [
    {
     "data": {
      "text/plain": [
       "91845"
      ]
     },
     "execution_count": 37,
     "metadata": {},
     "output_type": "execute_result"
    }
   ],
   "source": [
    "len(Indix_Done)"
   ]
  },
  {
   "cell_type": "code",
   "execution_count": 28,
   "metadata": {
    "collapsed": true
   },
   "outputs": [],
   "source": [
    "Indix_Tokens=pd.DataFrame.from_records(Indix_Done)"
   ]
  },
  {
   "cell_type": "code",
   "execution_count": 29,
   "metadata": {
    "collapsed": false
   },
   "outputs": [],
   "source": [
    "Indix_Tokens.to_csv(\"Indix_Tokens.csv\",index=False, encoding=\"utf-8\")"
   ]
  },
  {
   "cell_type": "code",
   "execution_count": 43,
   "metadata": {
    "collapsed": false,
    "scrolled": true
   },
   "outputs": [
    {
     "name": "stdout",
     "output_type": "stream",
     "text": [
      "--- 111.588000059 seconds ---\n"
     ]
    }
   ],
   "source": [
    "import time\n",
    "start_time = time.time()\n",
    "Indix_Done=[]\n",
    "#initializing parser\n",
    "parser = myhtmlparser()\n",
    "count_done=0\n",
    "#existing columns ---Index([u'label', u'table-text', u'url'], dtype='object')\n",
    "#adding ten columns with tokens obtained\n",
    "try:\n",
    "    for r in zip(Indix_Test['table-text'],Indix_Test['id'],Indix_Test['url'],Indix_Test['site']):\n",
    "            parser.feed(r[0])\n",
    "            # Extract data from parser\n",
    "            data  = parser.HTMLDATA\n",
    "            #remove invalids\n",
    "            data=filter(None,data)\n",
    "            if (len(data)<10):\n",
    "                    data[len(data):11]=[u'None',u'None',u'None',u'None',u'None',u'None',u'None',u'None',u'None',u'None',u'None']\n",
    "            #remove invalids\n",
    "            data=filter(None,data)\n",
    "            Indix_Done.append({'label':'Test',\n",
    "                                'table-text':r[0],\n",
    "                                'id':r[1],\n",
    "                                'url':r[2],\n",
    "                                'site':r[3],\n",
    "                                'V1':data[0],\n",
    "                                'V2':data[1],\n",
    "                                'V3':data[2],\n",
    "                                'V4':data[3],\n",
    "                                'V5':data[4],\n",
    "                                'V6':data[5],\n",
    "                                'V7':data[6],\n",
    "                                'V8':data[7],\n",
    "                                'V9':data[8],\n",
    "                                'V10':data[9]\n",
    "                                })\n",
    "            count_done=count_done+1\n",
    "            # Clean the parser\n",
    "            parser.clean()\n",
    "except Exception:\n",
    "    print (\"In Excception Block\",count_done)\n",
    "    pass\n",
    "print(\"--- %s seconds ---\" % (time.time() - start_time))"
   ]
  },
  {
   "cell_type": "code",
   "execution_count": 44,
   "metadata": {
    "collapsed": false
   },
   "outputs": [
    {
     "data": {
      "text/plain": [
       "11842"
      ]
     },
     "execution_count": 44,
     "metadata": {},
     "output_type": "execute_result"
    }
   ],
   "source": [
    "len(Indix_Done)"
   ]
  },
  {
   "cell_type": "code",
   "execution_count": 45,
   "metadata": {
    "collapsed": true
   },
   "outputs": [],
   "source": [
    "Indix_Tokens_Test=pd.DataFrame.from_records(Indix_Done)"
   ]
  },
  {
   "cell_type": "code",
   "execution_count": 46,
   "metadata": {
    "collapsed": false
   },
   "outputs": [],
   "source": [
    "Indix_Tokens_Test.to_csv(\"Indix_Tokens.csv\",index=False, encoding=\"utf-8\")"
   ]
  },
  {
   "cell_type": "code",
   "execution_count": 47,
   "metadata": {
    "collapsed": false
   },
   "outputs": [
    {
     "data": {
      "text/plain": [
       "Index([u'V1', u'V10', u'V2', u'V3', u'V4', u'V5', u'V6', u'V7', u'V8', u'V9',\n",
       "       u'id', u'label', u'site', u'table-text', u'url'],\n",
       "      dtype='object')"
      ]
     },
     "execution_count": 47,
     "metadata": {},
     "output_type": "execute_result"
    }
   ],
   "source": [
    "Indix_Tokens_Test.columns\n"
   ]
  },
  {
   "cell_type": "code",
   "execution_count": 53,
   "metadata": {
    "collapsed": false
   },
   "outputs": [
    {
     "data": {
      "text/plain": [
       "Index([u'V1', u'V10', u'V2', u'V3', u'V4', u'V5', u'V6', u'V7', u'V8', u'V9',\n",
       "       u'label', u'table-text', u'url', u'site', u'id'],\n",
       "      dtype='object')"
      ]
     },
     "execution_count": 53,
     "metadata": {},
     "output_type": "execute_result"
    }
   ],
   "source": [
    "Indix_Tokens.columns\n"
   ]
  },
  {
   "cell_type": "code",
   "execution_count": 52,
   "metadata": {
    "collapsed": true
   },
   "outputs": [],
   "source": [
    "#Indix_Tokens['site']='Train'\n",
    "Indix_Tokens['id']='Train'"
   ]
  },
  {
   "cell_type": "code",
   "execution_count": 147,
   "metadata": {
    "collapsed": true
   },
   "outputs": [],
   "source": [
    "fullData = pd.concat([Indix_Tokens,Indix_Tokens_Test],axis=0) #Combined both Train and Test Data set"
   ]
  },
  {
   "cell_type": "code",
   "execution_count": 204,
   "metadata": {
    "collapsed": false
   },
   "outputs": [],
   "source": [
    "fullData['Root']=fullDataRoot['Root'].values"
   ]
  },
  {
   "cell_type": "code",
   "execution_count": 4,
   "metadata": {
    "collapsed": false
   },
   "outputs": [
    {
     "ename": "KeyboardInterrupt",
     "evalue": "",
     "output_type": "error",
     "traceback": [
      "\u001b[1;31m---------------------------------------------------------------------------\u001b[0m",
      "\u001b[1;31mKeyboardInterrupt\u001b[0m                         Traceback (most recent call last)",
      "\u001b[1;32m<ipython-input-4-c42bf38eb92e>\u001b[0m in \u001b[0;36m<module>\u001b[1;34m()\u001b[0m\n\u001b[1;32m----> 1\u001b[1;33m \u001b[0mfullData\u001b[0m\u001b[1;33m.\u001b[0m\u001b[0mto_csv\u001b[0m\u001b[1;33m(\u001b[0m\u001b[1;34m\"fullDataN.csv\"\u001b[0m\u001b[1;33m,\u001b[0m\u001b[0mindex\u001b[0m\u001b[1;33m=\u001b[0m\u001b[0mFalse\u001b[0m\u001b[1;33m,\u001b[0m \u001b[0mencoding\u001b[0m\u001b[1;33m=\u001b[0m\u001b[1;34m\"utf-8\"\u001b[0m\u001b[1;33m)\u001b[0m\u001b[1;33m\u001b[0m\u001b[0m\n\u001b[0m",
      "\u001b[1;32mD:\\Anaconda\\lib\\site-packages\\pandas\\core\\frame.pyc\u001b[0m in \u001b[0;36mto_csv\u001b[1;34m(self, path_or_buf, sep, na_rep, float_format, columns, header, index, index_label, mode, encoding, quoting, quotechar, line_terminator, chunksize, tupleize_cols, date_format, doublequote, escapechar, decimal, **kwds)\u001b[0m\n\u001b[0;32m   1187\u001b[0m                                      \u001b[0mescapechar\u001b[0m\u001b[1;33m=\u001b[0m\u001b[0mescapechar\u001b[0m\u001b[1;33m,\u001b[0m\u001b[1;33m\u001b[0m\u001b[0m\n\u001b[0;32m   1188\u001b[0m                                      decimal=decimal)\n\u001b[1;32m-> 1189\u001b[1;33m         \u001b[0mformatter\u001b[0m\u001b[1;33m.\u001b[0m\u001b[0msave\u001b[0m\u001b[1;33m(\u001b[0m\u001b[1;33m)\u001b[0m\u001b[1;33m\u001b[0m\u001b[0m\n\u001b[0m\u001b[0;32m   1190\u001b[0m \u001b[1;33m\u001b[0m\u001b[0m\n\u001b[0;32m   1191\u001b[0m         \u001b[1;32mif\u001b[0m \u001b[0mpath_or_buf\u001b[0m \u001b[1;32mis\u001b[0m \u001b[0mNone\u001b[0m\u001b[1;33m:\u001b[0m\u001b[1;33m\u001b[0m\u001b[0m\n",
      "\u001b[1;32mD:\\Anaconda\\lib\\site-packages\\pandas\\core\\format.pyc\u001b[0m in \u001b[0;36msave\u001b[1;34m(self)\u001b[0m\n\u001b[0;32m   1465\u001b[0m \u001b[1;33m\u001b[0m\u001b[0m\n\u001b[0;32m   1466\u001b[0m             \u001b[1;32melse\u001b[0m\u001b[1;33m:\u001b[0m\u001b[1;33m\u001b[0m\u001b[0m\n\u001b[1;32m-> 1467\u001b[1;33m                 \u001b[0mself\u001b[0m\u001b[1;33m.\u001b[0m\u001b[0m_save\u001b[0m\u001b[1;33m(\u001b[0m\u001b[1;33m)\u001b[0m\u001b[1;33m\u001b[0m\u001b[0m\n\u001b[0m\u001b[0;32m   1468\u001b[0m \u001b[1;33m\u001b[0m\u001b[0m\n\u001b[0;32m   1469\u001b[0m         \u001b[1;32mfinally\u001b[0m\u001b[1;33m:\u001b[0m\u001b[1;33m\u001b[0m\u001b[0m\n",
      "\u001b[1;32mD:\\Anaconda\\lib\\site-packages\\pandas\\core\\format.pyc\u001b[0m in \u001b[0;36m_save\u001b[1;34m(self)\u001b[0m\n\u001b[0;32m   1565\u001b[0m                 \u001b[1;32mbreak\u001b[0m\u001b[1;33m\u001b[0m\u001b[0m\n\u001b[0;32m   1566\u001b[0m \u001b[1;33m\u001b[0m\u001b[0m\n\u001b[1;32m-> 1567\u001b[1;33m             \u001b[0mself\u001b[0m\u001b[1;33m.\u001b[0m\u001b[0m_save_chunk\u001b[0m\u001b[1;33m(\u001b[0m\u001b[0mstart_i\u001b[0m\u001b[1;33m,\u001b[0m \u001b[0mend_i\u001b[0m\u001b[1;33m)\u001b[0m\u001b[1;33m\u001b[0m\u001b[0m\n\u001b[0m\u001b[0;32m   1568\u001b[0m \u001b[1;33m\u001b[0m\u001b[0m\n\u001b[0;32m   1569\u001b[0m     \u001b[1;32mdef\u001b[0m \u001b[0m_save_chunk\u001b[0m\u001b[1;33m(\u001b[0m\u001b[0mself\u001b[0m\u001b[1;33m,\u001b[0m \u001b[0mstart_i\u001b[0m\u001b[1;33m,\u001b[0m \u001b[0mend_i\u001b[0m\u001b[1;33m)\u001b[0m\u001b[1;33m:\u001b[0m\u001b[1;33m\u001b[0m\u001b[0m\n",
      "\u001b[1;32mD:\\Anaconda\\lib\\site-packages\\pandas\\core\\format.pyc\u001b[0m in \u001b[0;36m_save_chunk\u001b[1;34m(self, start_i, end_i)\u001b[0m\n\u001b[0;32m   1592\u001b[0m                                         quoting=self.quoting)\n\u001b[0;32m   1593\u001b[0m \u001b[1;33m\u001b[0m\u001b[0m\n\u001b[1;32m-> 1594\u001b[1;33m         \u001b[0mlib\u001b[0m\u001b[1;33m.\u001b[0m\u001b[0mwrite_csv_rows\u001b[0m\u001b[1;33m(\u001b[0m\u001b[0mself\u001b[0m\u001b[1;33m.\u001b[0m\u001b[0mdata\u001b[0m\u001b[1;33m,\u001b[0m \u001b[0mix\u001b[0m\u001b[1;33m,\u001b[0m \u001b[0mself\u001b[0m\u001b[1;33m.\u001b[0m\u001b[0mnlevels\u001b[0m\u001b[1;33m,\u001b[0m \u001b[0mself\u001b[0m\u001b[1;33m.\u001b[0m\u001b[0mcols\u001b[0m\u001b[1;33m,\u001b[0m \u001b[0mself\u001b[0m\u001b[1;33m.\u001b[0m\u001b[0mwriter\u001b[0m\u001b[1;33m)\u001b[0m\u001b[1;33m\u001b[0m\u001b[0m\n\u001b[0m\u001b[0;32m   1595\u001b[0m \u001b[1;33m\u001b[0m\u001b[0m\n\u001b[0;32m   1596\u001b[0m \u001b[1;31m# from collections import namedtuple\u001b[0m\u001b[1;33m\u001b[0m\u001b[1;33m\u001b[0m\u001b[0m\n",
      "\u001b[1;32mpandas\\lib.pyx\u001b[0m in \u001b[0;36mpandas.lib.write_csv_rows (pandas\\lib.c:17912)\u001b[1;34m()\u001b[0m\n",
      "\u001b[1;32mD:\\Anaconda\\lib\\site-packages\\pandas\\core\\common.pyc\u001b[0m in \u001b[0;36mwriterows\u001b[1;34m(self, rows)\u001b[0m\n\u001b[0;32m   2907\u001b[0m             \u001b[1;32mfor\u001b[0m \u001b[0mi\u001b[0m\u001b[1;33m,\u001b[0m \u001b[0mrow\u001b[0m \u001b[1;32min\u001b[0m \u001b[0menumerate\u001b[0m\u001b[1;33m(\u001b[0m\u001b[0mrows\u001b[0m\u001b[1;33m)\u001b[0m\u001b[1;33m:\u001b[0m\u001b[1;33m\u001b[0m\u001b[0m\n\u001b[0;32m   2908\u001b[0m                 rows[i] = [x if _check_as_is(x)\n\u001b[1;32m-> 2909\u001b[1;33m                            else pprint_thing(x).encode('utf-8') for x in row]\n\u001b[0m\u001b[0;32m   2910\u001b[0m \u001b[1;33m\u001b[0m\u001b[0m\n\u001b[0;32m   2911\u001b[0m             \u001b[0mself\u001b[0m\u001b[1;33m.\u001b[0m\u001b[0mwriter\u001b[0m\u001b[1;33m.\u001b[0m\u001b[0mwriterows\u001b[0m\u001b[1;33m(\u001b[0m\u001b[1;33m[\u001b[0m\u001b[1;33m[\u001b[0m\u001b[0ms\u001b[0m \u001b[1;32mfor\u001b[0m \u001b[0ms\u001b[0m \u001b[1;32min\u001b[0m \u001b[0mrow\u001b[0m\u001b[1;33m]\u001b[0m \u001b[1;32mfor\u001b[0m \u001b[0mrow\u001b[0m \u001b[1;32min\u001b[0m \u001b[0mrows\u001b[0m\u001b[1;33m]\u001b[0m\u001b[1;33m)\u001b[0m\u001b[1;33m\u001b[0m\u001b[0m\n",
      "\u001b[1;32mD:\\Anaconda\\lib\\site-packages\\pandas\\core\\common.pyc\u001b[0m in \u001b[0;36mpprint_thing\u001b[1;34m(thing, _nest_lvl, escape_chars, default_escapes, quote_strings, max_seq_items)\u001b[0m\n\u001b[0;32m   3268\u001b[0m         result = _pprint_seq(thing, _nest_lvl, escape_chars=escape_chars,\n\u001b[0;32m   3269\u001b[0m                              quote_strings=quote_strings, max_seq_items=max_seq_items)\n\u001b[1;32m-> 3270\u001b[1;33m     \u001b[1;32melif\u001b[0m \u001b[0misinstance\u001b[0m\u001b[1;33m(\u001b[0m\u001b[0mthing\u001b[0m\u001b[1;33m,\u001b[0m \u001b[0mcompat\u001b[0m\u001b[1;33m.\u001b[0m\u001b[0mstring_types\u001b[0m\u001b[1;33m)\u001b[0m \u001b[1;32mand\u001b[0m \u001b[0mquote_strings\u001b[0m\u001b[1;33m:\u001b[0m\u001b[1;33m\u001b[0m\u001b[0m\n\u001b[0m\u001b[0;32m   3271\u001b[0m         \u001b[1;32mif\u001b[0m \u001b[0mcompat\u001b[0m\u001b[1;33m.\u001b[0m\u001b[0mPY3\u001b[0m\u001b[1;33m:\u001b[0m\u001b[1;33m\u001b[0m\u001b[0m\n\u001b[0;32m   3272\u001b[0m             \u001b[0mfmt\u001b[0m \u001b[1;33m=\u001b[0m \u001b[1;34m\"'%s'\"\u001b[0m\u001b[1;33m\u001b[0m\u001b[0m\n",
      "\u001b[1;31mKeyboardInterrupt\u001b[0m: "
     ]
    }
   ],
   "source": [
    "fullData.to_csv(\"fullDataN.csv\",index=False, encoding=\"utf-8\")\n"
   ]
  },
  {
   "cell_type": "code",
   "execution_count": 6,
   "metadata": {
    "collapsed": false
   },
   "outputs": [
    {
     "data": {
      "text/plain": [
       "44000"
      ]
     },
     "execution_count": 6,
     "metadata": {},
     "output_type": "execute_result"
    }
   ],
   "source": [
    "low_memory=False\n",
    "import pandas as pd\n",
    "fullData=pd.read_csv(\"fullDataN.csv\",sep=\",\", encoding=\"utf-8\")\n",
    "fullData.shape[0]"
   ]
  },
  {
   "cell_type": "code",
   "execution_count": 11,
   "metadata": {
    "collapsed": false
   },
   "outputs": [
    {
     "data": {
      "text/plain": [
       "Index([        u'V1',        u'V10',         u'V2',         u'V3',\n",
       "               u'V4',         u'V5',         u'V6',         u'V7',\n",
       "               u'V8',         u'V9',         u'id',      u'label',\n",
       "             u'site', u'table-text',        u'url',      u'V2_NA',\n",
       "            u'V3_NA',      u'V4_NA',      u'V5_NA',      u'V6_NA',\n",
       "            u'V7_NA',      u'V8_NA',      u'V9_NA',     u'V10_NA',\n",
       "             u'Root'],\n",
       "      dtype='object')"
      ]
     },
     "execution_count": 11,
     "metadata": {},
     "output_type": "execute_result"
    }
   ],
   "source": [
    "fullData.columns"
   ]
  },
  {
   "cell_type": "code",
   "execution_count": 48,
   "metadata": {
    "collapsed": false
   },
   "outputs": [
    {
     "data": {
      "text/html": [
       "<div>\n",
       "<table border=\"1\" class=\"dataframe\">\n",
       "  <thead>\n",
       "    <tr style=\"text-align: right;\">\n",
       "      <th></th>\n",
       "      <th>V1</th>\n",
       "      <th>V10</th>\n",
       "      <th>V2</th>\n",
       "      <th>V3</th>\n",
       "      <th>V4</th>\n",
       "      <th>V5</th>\n",
       "      <th>V6</th>\n",
       "      <th>V7</th>\n",
       "      <th>V8</th>\n",
       "      <th>V9</th>\n",
       "      <th>id</th>\n",
       "      <th>label</th>\n",
       "      <th>site</th>\n",
       "      <th>table-text</th>\n",
       "      <th>url</th>\n",
       "      <th>Root</th>\n",
       "    </tr>\n",
       "  </thead>\n",
       "  <tbody>\n",
       "    <tr>\n",
       "      <th>0</th>\n",
       "      <td>Selected Product</td>\n",
       "      <td></td>\n",
       "      <td>Price</td>\n",
       "      <td>Make Selections</td>\n",
       "      <td>qty</td>\n",
       "      <td>back to top</td>\n",
       "      <td>CORRCTCRAFT NTIQUE EXCEL BR DNT COVER</td>\n",
       "      <td>Item # 746134</td>\n",
       "      <td></td>\n",
       "      <td>$730.99</td>\n",
       "      <td>Train</td>\n",
       "      <td>no</td>\n",
       "      <td>Train</td>\n",
       "      <td>&lt;table id=\"selectedProduct\"&gt;\\r\\n&lt;tr&gt;\\r\\n&lt;th cl...</td>\n",
       "      <td>www.gandermountain.com/68a52b85e5089394e34f1bc...</td>\n",
       "      <td>www.gandermountain.com</td>\n",
       "    </tr>\n",
       "    <tr>\n",
       "      <th>1</th>\n",
       "      <td>Selected Product</td>\n",
       "      <td></td>\n",
       "      <td>Price</td>\n",
       "      <td>Make Selections</td>\n",
       "      <td>qty</td>\n",
       "      <td>back to top</td>\n",
       "      <td>CORRCTCRAFT NTIQUE EXCEL BR DNT COVER</td>\n",
       "      <td>Item # 746134</td>\n",
       "      <td></td>\n",
       "      <td>$730.99</td>\n",
       "      <td>Train</td>\n",
       "      <td>no</td>\n",
       "      <td>Train</td>\n",
       "      <td>&lt;table id=\"completeProducts\"&gt;\\r\\n&lt;tr&gt;\\r\\n&lt;th c...</td>\n",
       "      <td>www.gandermountain.com/68a52b85e5089394e34f1bc...</td>\n",
       "      <td>www.gandermountain.com</td>\n",
       "    </tr>\n",
       "    <tr>\n",
       "      <th>2</th>\n",
       "      <td>Selected Product</td>\n",
       "      <td></td>\n",
       "      <td>Price</td>\n",
       "      <td>Make Selections</td>\n",
       "      <td>qty</td>\n",
       "      <td>back to top</td>\n",
       "      <td>CORRCTCRAFT NTIQUE EXCEL BR DNT COVER</td>\n",
       "      <td>Item # 746134</td>\n",
       "      <td></td>\n",
       "      <td>$730.99</td>\n",
       "      <td>Train</td>\n",
       "      <td>no</td>\n",
       "      <td>Train</td>\n",
       "      <td>&lt;table&gt;\\r\\n&lt;tr&gt;\\r\\n&lt;td class=\"search_msg\"&gt;\\r\\n...</td>\n",
       "      <td>www.gandermountain.com/f494618f406eddbb0c3b696...</td>\n",
       "      <td>www.gandermountain.com</td>\n",
       "    </tr>\n",
       "    <tr>\n",
       "      <th>3</th>\n",
       "      <td>Selected Product</td>\n",
       "      <td></td>\n",
       "      <td>Price</td>\n",
       "      <td>Make Selections</td>\n",
       "      <td>qty</td>\n",
       "      <td>back to top</td>\n",
       "      <td>CORRCTCRAFT NTIQUE EXCEL BR DNT COVER</td>\n",
       "      <td>Item # 746134</td>\n",
       "      <td></td>\n",
       "      <td>$730.99</td>\n",
       "      <td>Train</td>\n",
       "      <td>no</td>\n",
       "      <td>Train</td>\n",
       "      <td>&lt;table id=\"selectedProduct\"&gt;\\r\\n&lt;tr&gt;\\r\\n&lt;th cl...</td>\n",
       "      <td>www.gandermountain.com/7ce730e8cb3fe5244ffa8c2...</td>\n",
       "      <td>www.gandermountain.com</td>\n",
       "    </tr>\n",
       "    <tr>\n",
       "      <th>4</th>\n",
       "      <td>Selected Product</td>\n",
       "      <td></td>\n",
       "      <td>Price</td>\n",
       "      <td>Make Selections</td>\n",
       "      <td>qty</td>\n",
       "      <td>back to top</td>\n",
       "      <td>CORRCTCRAFT NTIQUE EXCEL BR DNT COVER</td>\n",
       "      <td>Item # 746134</td>\n",
       "      <td></td>\n",
       "      <td>$730.99</td>\n",
       "      <td>Train</td>\n",
       "      <td>no</td>\n",
       "      <td>Train</td>\n",
       "      <td>&lt;table id=\"completeProducts\"&gt;\\r\\n&lt;tr&gt;\\r\\n&lt;th c...</td>\n",
       "      <td>www.gandermountain.com/7ce730e8cb3fe5244ffa8c2...</td>\n",
       "      <td>www.gandermountain.com</td>\n",
       "    </tr>\n",
       "  </tbody>\n",
       "</table>\n",
       "</div>"
      ],
      "text/plain": [
       "                 V1 V10     V2               V3   V4           V5  \\\n",
       "0  Selected Product      Price  Make Selections  qty  back to top   \n",
       "1  Selected Product      Price  Make Selections  qty  back to top   \n",
       "2  Selected Product      Price  Make Selections  qty  back to top   \n",
       "3  Selected Product      Price  Make Selections  qty  back to top   \n",
       "4  Selected Product      Price  Make Selections  qty  back to top   \n",
       "\n",
       "                                      V6             V7 V8       V9     id  \\\n",
       "0  CORRCTCRAFT NTIQUE EXCEL BR DNT COVER  Item # 746134     $730.99  Train   \n",
       "1  CORRCTCRAFT NTIQUE EXCEL BR DNT COVER  Item # 746134     $730.99  Train   \n",
       "2  CORRCTCRAFT NTIQUE EXCEL BR DNT COVER  Item # 746134     $730.99  Train   \n",
       "3  CORRCTCRAFT NTIQUE EXCEL BR DNT COVER  Item # 746134     $730.99  Train   \n",
       "4  CORRCTCRAFT NTIQUE EXCEL BR DNT COVER  Item # 746134     $730.99  Train   \n",
       "\n",
       "  label   site                                         table-text  \\\n",
       "0    no  Train  <table id=\"selectedProduct\">\\r\\n<tr>\\r\\n<th cl...   \n",
       "1    no  Train  <table id=\"completeProducts\">\\r\\n<tr>\\r\\n<th c...   \n",
       "2    no  Train  <table>\\r\\n<tr>\\r\\n<td class=\"search_msg\">\\r\\n...   \n",
       "3    no  Train  <table id=\"selectedProduct\">\\r\\n<tr>\\r\\n<th cl...   \n",
       "4    no  Train  <table id=\"completeProducts\">\\r\\n<tr>\\r\\n<th c...   \n",
       "\n",
       "                                                 url                    Root  \n",
       "0  www.gandermountain.com/68a52b85e5089394e34f1bc...  www.gandermountain.com  \n",
       "1  www.gandermountain.com/68a52b85e5089394e34f1bc...  www.gandermountain.com  \n",
       "2  www.gandermountain.com/f494618f406eddbb0c3b696...  www.gandermountain.com  \n",
       "3  www.gandermountain.com/7ce730e8cb3fe5244ffa8c2...  www.gandermountain.com  \n",
       "4  www.gandermountain.com/7ce730e8cb3fe5244ffa8c2...  www.gandermountain.com  "
      ]
     },
     "execution_count": 48,
     "metadata": {},
     "output_type": "execute_result"
    }
   ],
   "source": [
    "fullDataText.head()"
   ]
  },
  {
   "cell_type": "code",
   "execution_count": 12,
   "metadata": {
    "collapsed": false
   },
   "outputs": [
    {
     "data": {
      "text/html": [
       "<div>\n",
       "<table border=\"1\" class=\"dataframe\">\n",
       "  <thead>\n",
       "    <tr style=\"text-align: right;\">\n",
       "      <th></th>\n",
       "      <th>V1</th>\n",
       "      <th>V10</th>\n",
       "      <th>V2</th>\n",
       "      <th>V3</th>\n",
       "      <th>V4</th>\n",
       "      <th>V5</th>\n",
       "      <th>V6</th>\n",
       "      <th>V7</th>\n",
       "      <th>V8</th>\n",
       "      <th>V9</th>\n",
       "      <th>...</th>\n",
       "      <th>V2_NA</th>\n",
       "      <th>V3_NA</th>\n",
       "      <th>V4_NA</th>\n",
       "      <th>V5_NA</th>\n",
       "      <th>V6_NA</th>\n",
       "      <th>V7_NA</th>\n",
       "      <th>V8_NA</th>\n",
       "      <th>V9_NA</th>\n",
       "      <th>V10_NA</th>\n",
       "      <th>Root</th>\n",
       "    </tr>\n",
       "  </thead>\n",
       "  <tbody>\n",
       "    <tr>\n",
       "      <th>0</th>\n",
       "      <td>4554</td>\n",
       "      <td>3579</td>\n",
       "      <td>5737</td>\n",
       "      <td>3624</td>\n",
       "      <td>6304</td>\n",
       "      <td>4976</td>\n",
       "      <td>2619</td>\n",
       "      <td>2657</td>\n",
       "      <td>5058</td>\n",
       "      <td>254</td>\n",
       "      <td>...</td>\n",
       "      <td>0</td>\n",
       "      <td>0</td>\n",
       "      <td>0</td>\n",
       "      <td>0</td>\n",
       "      <td>0</td>\n",
       "      <td>0</td>\n",
       "      <td>0</td>\n",
       "      <td>0</td>\n",
       "      <td>0</td>\n",
       "      <td>63</td>\n",
       "    </tr>\n",
       "    <tr>\n",
       "      <th>1</th>\n",
       "      <td>4554</td>\n",
       "      <td>3579</td>\n",
       "      <td>5737</td>\n",
       "      <td>3624</td>\n",
       "      <td>6304</td>\n",
       "      <td>4976</td>\n",
       "      <td>2619</td>\n",
       "      <td>2657</td>\n",
       "      <td>5058</td>\n",
       "      <td>254</td>\n",
       "      <td>...</td>\n",
       "      <td>0</td>\n",
       "      <td>0</td>\n",
       "      <td>0</td>\n",
       "      <td>0</td>\n",
       "      <td>0</td>\n",
       "      <td>0</td>\n",
       "      <td>0</td>\n",
       "      <td>0</td>\n",
       "      <td>0</td>\n",
       "      <td>63</td>\n",
       "    </tr>\n",
       "    <tr>\n",
       "      <th>2</th>\n",
       "      <td>4554</td>\n",
       "      <td>3579</td>\n",
       "      <td>5737</td>\n",
       "      <td>3624</td>\n",
       "      <td>6304</td>\n",
       "      <td>4976</td>\n",
       "      <td>2619</td>\n",
       "      <td>2657</td>\n",
       "      <td>5058</td>\n",
       "      <td>254</td>\n",
       "      <td>...</td>\n",
       "      <td>0</td>\n",
       "      <td>0</td>\n",
       "      <td>0</td>\n",
       "      <td>0</td>\n",
       "      <td>0</td>\n",
       "      <td>0</td>\n",
       "      <td>0</td>\n",
       "      <td>0</td>\n",
       "      <td>0</td>\n",
       "      <td>63</td>\n",
       "    </tr>\n",
       "    <tr>\n",
       "      <th>3</th>\n",
       "      <td>4554</td>\n",
       "      <td>3579</td>\n",
       "      <td>5737</td>\n",
       "      <td>3624</td>\n",
       "      <td>6304</td>\n",
       "      <td>4976</td>\n",
       "      <td>2619</td>\n",
       "      <td>2657</td>\n",
       "      <td>5058</td>\n",
       "      <td>254</td>\n",
       "      <td>...</td>\n",
       "      <td>0</td>\n",
       "      <td>0</td>\n",
       "      <td>0</td>\n",
       "      <td>0</td>\n",
       "      <td>0</td>\n",
       "      <td>0</td>\n",
       "      <td>0</td>\n",
       "      <td>0</td>\n",
       "      <td>0</td>\n",
       "      <td>63</td>\n",
       "    </tr>\n",
       "    <tr>\n",
       "      <th>4</th>\n",
       "      <td>4554</td>\n",
       "      <td>3579</td>\n",
       "      <td>5737</td>\n",
       "      <td>3624</td>\n",
       "      <td>6304</td>\n",
       "      <td>4976</td>\n",
       "      <td>2619</td>\n",
       "      <td>2657</td>\n",
       "      <td>5058</td>\n",
       "      <td>254</td>\n",
       "      <td>...</td>\n",
       "      <td>0</td>\n",
       "      <td>0</td>\n",
       "      <td>0</td>\n",
       "      <td>0</td>\n",
       "      <td>0</td>\n",
       "      <td>0</td>\n",
       "      <td>0</td>\n",
       "      <td>0</td>\n",
       "      <td>0</td>\n",
       "      <td>63</td>\n",
       "    </tr>\n",
       "  </tbody>\n",
       "</table>\n",
       "<p>5 rows × 25 columns</p>\n",
       "</div>"
      ],
      "text/plain": [
       "     V1   V10    V2    V3    V4    V5    V6    V7    V8   V9  ...  V2_NA  \\\n",
       "0  4554  3579  5737  3624  6304  4976  2619  2657  5058  254  ...      0   \n",
       "1  4554  3579  5737  3624  6304  4976  2619  2657  5058  254  ...      0   \n",
       "2  4554  3579  5737  3624  6304  4976  2619  2657  5058  254  ...      0   \n",
       "3  4554  3579  5737  3624  6304  4976  2619  2657  5058  254  ...      0   \n",
       "4  4554  3579  5737  3624  6304  4976  2619  2657  5058  254  ...      0   \n",
       "\n",
       "  V3_NA  V4_NA  V5_NA  V6_NA  V7_NA  V8_NA  V9_NA  V10_NA  Root  \n",
       "0     0      0      0      0      0      0      0       0    63  \n",
       "1     0      0      0      0      0      0      0       0    63  \n",
       "2     0      0      0      0      0      0      0       0    63  \n",
       "3     0      0      0      0      0      0      0       0    63  \n",
       "4     0      0      0      0      0      0      0       0    63  \n",
       "\n",
       "[5 rows x 25 columns]"
      ]
     },
     "execution_count": 12,
     "metadata": {},
     "output_type": "execute_result"
    }
   ],
   "source": [
    "fullData.head()"
   ]
  },
  {
   "cell_type": "code",
   "execution_count": 23,
   "metadata": {
    "collapsed": true
   },
   "outputs": [],
   "source": [
    "ID_col = ['id']\n",
    "target_col = ['label']\n",
    "cat_cols = ['site','url','table-text','V1','V2','V3','V4','V5','V6','V7','V8','V9','V10','Root']\n",
    "num_cols= []\n",
    "other_col=[] #Test and Train Data set identifier\n",
    "num_cat_cols = num_cols+cat_cols # Combined numerical and Categorical variables"
   ]
  },
  {
   "cell_type": "code",
   "execution_count": 24,
   "metadata": {
    "collapsed": true
   },
   "outputs": [],
   "source": [
    "for var in num_cat_cols:\n",
    "    if fullDataText[var].isnull().any()==True:\n",
    "        fullDataText[var+'_NA']=fullDataText[var].isnull()*1 "
   ]
  },
  {
   "cell_type": "code",
   "execution_count": 25,
   "metadata": {
    "collapsed": true
   },
   "outputs": [],
   "source": [
    "#Impute numerical missing values with mean\n",
    "fullDataText[num_cols] = fullDataText[num_cols].fillna(fullData[num_cols].mean(),inplace=True)"
   ]
  },
  {
   "cell_type": "code",
   "execution_count": 26,
   "metadata": {
    "collapsed": true
   },
   "outputs": [],
   "source": [
    "#Impute categorical missing values with -9999\n",
    "fullDataText[cat_cols] = fullDataText[cat_cols].fillna(value = -9999)"
   ]
  },
  {
   "cell_type": "code",
   "execution_count": 122,
   "metadata": {
    "collapsed": false
   },
   "outputs": [
    {
     "data": {
      "text/plain": [
       "['V9']"
      ]
     },
     "execution_count": 122,
     "metadata": {},
     "output_type": "execute_result"
    }
   ],
   "source": [
    "#ot woring\n",
    "#Done=['site','url','table-text','V10','V1','V2', 'V3', 'V4', 'V5', 'V6', 'V7', 'V8']\n",
    "#remaining=list(set(cat_cols)-set(Done))\n",
    "#remaining"
   ]
  },
  {
   "cell_type": "code",
   "execution_count": 127,
   "metadata": {
    "collapsed": false
   },
   "outputs": [
    {
     "name": "stdout",
     "output_type": "stream",
     "text": [
      "V9\n"
     ]
    }
   ],
   "source": [
    "###abandoned due to unicodeerror\n",
    "\n",
    "from sklearn import preprocessing\n",
    "#create label encoders for categorical features\n",
    "\n",
    "for var in num_cat_cols:\n",
    " print var\n",
    " number = preprocessing.LabelEncoder()\n",
    "fullData[var] = number.fit_transform(fullData[var].astype('str'))\n",
    "#fullData[var] = number.fit_transform(str(fullData[var]).encode('utf-8'))"
   ]
  },
  {
   "cell_type": "code",
   "execution_count": 107,
   "metadata": {
    "collapsed": false
   },
   "outputs": [],
   "source": [
    "#tring to resolve unicode errors\n",
    "\n",
    "fullData['V2']=fullData['V2'].str.replace(u':', 'XB5')\n",
    "fullData['table-text']=fullData['table-text'].str.replace(u'\\u2220', 'U2220')\n"
   ]
  },
  {
   "cell_type": "code",
   "execution_count": 27,
   "metadata": {
    "collapsed": false
   },
   "outputs": [],
   "source": [
    "fullDataText.dtypes\n",
    "for var in cat_cols:\n",
    "    fullDataText[var]=fullDataText[var].astype('category')\n"
   ]
  },
  {
   "cell_type": "code",
   "execution_count": 181,
   "metadata": {
    "collapsed": true
   },
   "outputs": [],
   "source": [
    "Root_train['type']='train'\n",
    "Root_test['type']='test'"
   ]
  },
  {
   "cell_type": "code",
   "execution_count": 182,
   "metadata": {
    "collapsed": true
   },
   "outputs": [],
   "source": [
    "fullDataRoot = pd.concat([Root_train,Root_test],axis=0)"
   ]
  },
  {
   "cell_type": "code",
   "execution_count": 183,
   "metadata": {
    "collapsed": true
   },
   "outputs": [],
   "source": [
    "Root_train1=fullDataRoot[fullDataRoot['type']=='train']['Root']\n",
    "Root_test1=fullDataRoot[fullDataRoot['type']=='test']['Root']"
   ]
  },
  {
   "cell_type": "code",
   "execution_count": 184,
   "metadata": {
    "collapsed": false
   },
   "outputs": [
    {
     "data": {
      "text/plain": [
       "0     8\n",
       "1    14\n",
       "2    14\n",
       "3    14\n",
       "4    14\n",
       "Name: Root, dtype: int32"
      ]
     },
     "execution_count": 184,
     "metadata": {},
     "output_type": "execute_result"
    }
   ],
   "source": [
    "Root_test1.head()"
   ]
  },
  {
   "cell_type": "code",
   "execution_count": 156,
   "metadata": {
    "collapsed": false
   },
   "outputs": [],
   "source": [
    "\n",
    "\n",
    "Root_train['Root']=Root_train['Root'].astype('category')\n",
    "Root_test['Root']=Root_test['Root'].astype('category')"
   ]
  },
  {
   "cell_type": "code",
   "execution_count": 189,
   "metadata": {
    "collapsed": false
   },
   "outputs": [],
   "source": [
    "IndixDM_Test=IndixDM_Test.reset_index()"
   ]
  },
  {
   "cell_type": "code",
   "execution_count": 187,
   "metadata": {
    "collapsed": false
   },
   "outputs": [
    {
     "data": {
      "text/html": [
       "<div>\n",
       "<table border=\"1\" class=\"dataframe\">\n",
       "  <thead>\n",
       "    <tr style=\"text-align: right;\">\n",
       "      <th></th>\n",
       "      <th>V1</th>\n",
       "      <th>V10</th>\n",
       "      <th>V2</th>\n",
       "      <th>V3</th>\n",
       "      <th>V4</th>\n",
       "      <th>V5</th>\n",
       "      <th>V6</th>\n",
       "      <th>V7</th>\n",
       "      <th>V8</th>\n",
       "      <th>V9</th>\n",
       "      <th>...</th>\n",
       "      <th>V2_NA</th>\n",
       "      <th>V3_NA</th>\n",
       "      <th>V4_NA</th>\n",
       "      <th>V5_NA</th>\n",
       "      <th>V6_NA</th>\n",
       "      <th>V7_NA</th>\n",
       "      <th>V8_NA</th>\n",
       "      <th>V9_NA</th>\n",
       "      <th>V10_NA</th>\n",
       "      <th>Root</th>\n",
       "    </tr>\n",
       "  </thead>\n",
       "  <tbody>\n",
       "    <tr>\n",
       "      <th>91845</th>\n",
       "      <td>4708</td>\n",
       "      <td>2973</td>\n",
       "      <td>3840</td>\n",
       "      <td>4845</td>\n",
       "      <td>2761</td>\n",
       "      <td>3567</td>\n",
       "      <td>4277</td>\n",
       "      <td>3120</td>\n",
       "      <td>3626</td>\n",
       "      <td>2749</td>\n",
       "      <td>...</td>\n",
       "      <td>0</td>\n",
       "      <td>0</td>\n",
       "      <td>0</td>\n",
       "      <td>0</td>\n",
       "      <td>0</td>\n",
       "      <td>0</td>\n",
       "      <td>0</td>\n",
       "      <td>0</td>\n",
       "      <td>0</td>\n",
       "      <td>NaN</td>\n",
       "    </tr>\n",
       "    <tr>\n",
       "      <th>91846</th>\n",
       "      <td>3009</td>\n",
       "      <td>2973</td>\n",
       "      <td>7079</td>\n",
       "      <td>4245</td>\n",
       "      <td>4346</td>\n",
       "      <td>3567</td>\n",
       "      <td>4277</td>\n",
       "      <td>3120</td>\n",
       "      <td>3626</td>\n",
       "      <td>2749</td>\n",
       "      <td>...</td>\n",
       "      <td>0</td>\n",
       "      <td>0</td>\n",
       "      <td>0</td>\n",
       "      <td>0</td>\n",
       "      <td>0</td>\n",
       "      <td>0</td>\n",
       "      <td>0</td>\n",
       "      <td>0</td>\n",
       "      <td>0</td>\n",
       "      <td>NaN</td>\n",
       "    </tr>\n",
       "    <tr>\n",
       "      <th>91847</th>\n",
       "      <td>4395</td>\n",
       "      <td>2973</td>\n",
       "      <td>7116</td>\n",
       "      <td>5254</td>\n",
       "      <td>1894</td>\n",
       "      <td>4774</td>\n",
       "      <td>2634</td>\n",
       "      <td>4262</td>\n",
       "      <td>2315</td>\n",
       "      <td>2749</td>\n",
       "      <td>...</td>\n",
       "      <td>0</td>\n",
       "      <td>0</td>\n",
       "      <td>0</td>\n",
       "      <td>0</td>\n",
       "      <td>0</td>\n",
       "      <td>0</td>\n",
       "      <td>0</td>\n",
       "      <td>0</td>\n",
       "      <td>0</td>\n",
       "      <td>NaN</td>\n",
       "    </tr>\n",
       "    <tr>\n",
       "      <th>91848</th>\n",
       "      <td>3009</td>\n",
       "      <td>2973</td>\n",
       "      <td>7079</td>\n",
       "      <td>4245</td>\n",
       "      <td>4346</td>\n",
       "      <td>3567</td>\n",
       "      <td>4277</td>\n",
       "      <td>3120</td>\n",
       "      <td>3626</td>\n",
       "      <td>2749</td>\n",
       "      <td>...</td>\n",
       "      <td>0</td>\n",
       "      <td>0</td>\n",
       "      <td>0</td>\n",
       "      <td>0</td>\n",
       "      <td>0</td>\n",
       "      <td>0</td>\n",
       "      <td>0</td>\n",
       "      <td>0</td>\n",
       "      <td>0</td>\n",
       "      <td>NaN</td>\n",
       "    </tr>\n",
       "    <tr>\n",
       "      <th>91849</th>\n",
       "      <td>5291</td>\n",
       "      <td>2973</td>\n",
       "      <td>2244</td>\n",
       "      <td>5381</td>\n",
       "      <td>2695</td>\n",
       "      <td>4775</td>\n",
       "      <td>2634</td>\n",
       "      <td>3120</td>\n",
       "      <td>3626</td>\n",
       "      <td>2749</td>\n",
       "      <td>...</td>\n",
       "      <td>0</td>\n",
       "      <td>0</td>\n",
       "      <td>0</td>\n",
       "      <td>0</td>\n",
       "      <td>0</td>\n",
       "      <td>0</td>\n",
       "      <td>0</td>\n",
       "      <td>0</td>\n",
       "      <td>0</td>\n",
       "      <td>NaN</td>\n",
       "    </tr>\n",
       "  </tbody>\n",
       "</table>\n",
       "<p>5 rows × 25 columns</p>\n",
       "</div>"
      ],
      "text/plain": [
       "         V1   V10    V2    V3    V4    V5    V6    V7    V8    V9  ...  V2_NA  \\\n",
       "91845  4708  2973  3840  4845  2761  3567  4277  3120  3626  2749  ...      0   \n",
       "91846  3009  2973  7079  4245  4346  3567  4277  3120  3626  2749  ...      0   \n",
       "91847  4395  2973  7116  5254  1894  4774  2634  4262  2315  2749  ...      0   \n",
       "91848  3009  2973  7079  4245  4346  3567  4277  3120  3626  2749  ...      0   \n",
       "91849  5291  2973  2244  5381  2695  4775  2634  3120  3626  2749  ...      0   \n",
       "\n",
       "      V3_NA  V4_NA  V5_NA  V6_NA  V7_NA  V8_NA  V9_NA  V10_NA  Root  \n",
       "91845     0      0      0      0      0      0      0       0   NaN  \n",
       "91846     0      0      0      0      0      0      0       0   NaN  \n",
       "91847     0      0      0      0      0      0      0       0   NaN  \n",
       "91848     0      0      0      0      0      0      0       0   NaN  \n",
       "91849     0      0      0      0      0      0      0       0   NaN  \n",
       "\n",
       "[5 rows x 25 columns]"
      ]
     },
     "execution_count": 187,
     "metadata": {},
     "output_type": "execute_result"
    }
   ],
   "source": [
    "NewTest.head()"
   ]
  },
  {
   "cell_type": "code",
   "execution_count": 158,
   "metadata": {
    "collapsed": false
   },
   "outputs": [],
   "source": [
    "from sklearn import preprocessing\n",
    "number = preprocessing.LabelEncoder()\n",
    "fullData[var] = number.fit_transform(fullData[var].astype('str'))\n",
    "\n",
    "Root_train['Root']=number.fit_transform(Root_train['Root'].astype('str'))\n",
    "\n",
    "Root_test['Root']=number.fit_transform(Root_test['Root'].astype('str'))\n",
    "#Root_test['Root']=Root_test['Root'].apply(lambda x: x.cat.codes)"
   ]
  },
  {
   "cell_type": "code",
   "execution_count": 28,
   "metadata": {
    "collapsed": false
   },
   "outputs": [],
   "source": [
    "#applying category code to convert into numeric\n",
    "cat_columns = fullDataText.select_dtypes(include=['category']).columns\n",
    "\n",
    "fullDataText[cat_columns] = fullDataText[cat_columns].apply(lambda x: x.cat.codes)"
   ]
  },
  {
   "cell_type": "code",
   "execution_count": 30,
   "metadata": {
    "collapsed": true
   },
   "outputs": [],
   "source": [
    "fullData=fullDataText"
   ]
  },
  {
   "cell_type": "code",
   "execution_count": 31,
   "metadata": {
    "collapsed": false
   },
   "outputs": [
    {
     "data": {
      "text/html": [
       "<div>\n",
       "<table border=\"1\" class=\"dataframe\">\n",
       "  <thead>\n",
       "    <tr style=\"text-align: right;\">\n",
       "      <th></th>\n",
       "      <th>V1</th>\n",
       "      <th>V10</th>\n",
       "      <th>V2</th>\n",
       "      <th>V3</th>\n",
       "      <th>V4</th>\n",
       "      <th>V5</th>\n",
       "      <th>V6</th>\n",
       "      <th>V7</th>\n",
       "      <th>V8</th>\n",
       "      <th>V9</th>\n",
       "      <th>...</th>\n",
       "      <th>Root</th>\n",
       "      <th>V2_NA</th>\n",
       "      <th>V3_NA</th>\n",
       "      <th>V4_NA</th>\n",
       "      <th>V5_NA</th>\n",
       "      <th>V6_NA</th>\n",
       "      <th>V7_NA</th>\n",
       "      <th>V8_NA</th>\n",
       "      <th>V9_NA</th>\n",
       "      <th>V10_NA</th>\n",
       "    </tr>\n",
       "  </thead>\n",
       "  <tbody>\n",
       "    <tr>\n",
       "      <th>0</th>\n",
       "      <td>4554</td>\n",
       "      <td>4219</td>\n",
       "      <td>5737</td>\n",
       "      <td>3624</td>\n",
       "      <td>6304</td>\n",
       "      <td>4976</td>\n",
       "      <td>2619</td>\n",
       "      <td>2657</td>\n",
       "      <td>5058</td>\n",
       "      <td>254</td>\n",
       "      <td>...</td>\n",
       "      <td>63</td>\n",
       "      <td>0</td>\n",
       "      <td>0</td>\n",
       "      <td>0</td>\n",
       "      <td>0</td>\n",
       "      <td>0</td>\n",
       "      <td>0</td>\n",
       "      <td>0</td>\n",
       "      <td>0</td>\n",
       "      <td>0</td>\n",
       "    </tr>\n",
       "    <tr>\n",
       "      <th>1</th>\n",
       "      <td>4554</td>\n",
       "      <td>4219</td>\n",
       "      <td>5737</td>\n",
       "      <td>3624</td>\n",
       "      <td>6304</td>\n",
       "      <td>4976</td>\n",
       "      <td>2619</td>\n",
       "      <td>2657</td>\n",
       "      <td>5058</td>\n",
       "      <td>254</td>\n",
       "      <td>...</td>\n",
       "      <td>63</td>\n",
       "      <td>0</td>\n",
       "      <td>0</td>\n",
       "      <td>0</td>\n",
       "      <td>0</td>\n",
       "      <td>0</td>\n",
       "      <td>0</td>\n",
       "      <td>0</td>\n",
       "      <td>0</td>\n",
       "      <td>0</td>\n",
       "    </tr>\n",
       "    <tr>\n",
       "      <th>2</th>\n",
       "      <td>4554</td>\n",
       "      <td>4219</td>\n",
       "      <td>5737</td>\n",
       "      <td>3624</td>\n",
       "      <td>6304</td>\n",
       "      <td>4976</td>\n",
       "      <td>2619</td>\n",
       "      <td>2657</td>\n",
       "      <td>5058</td>\n",
       "      <td>254</td>\n",
       "      <td>...</td>\n",
       "      <td>63</td>\n",
       "      <td>0</td>\n",
       "      <td>0</td>\n",
       "      <td>0</td>\n",
       "      <td>0</td>\n",
       "      <td>0</td>\n",
       "      <td>0</td>\n",
       "      <td>0</td>\n",
       "      <td>0</td>\n",
       "      <td>0</td>\n",
       "    </tr>\n",
       "    <tr>\n",
       "      <th>3</th>\n",
       "      <td>4554</td>\n",
       "      <td>4219</td>\n",
       "      <td>5737</td>\n",
       "      <td>3624</td>\n",
       "      <td>6304</td>\n",
       "      <td>4976</td>\n",
       "      <td>2619</td>\n",
       "      <td>2657</td>\n",
       "      <td>5058</td>\n",
       "      <td>254</td>\n",
       "      <td>...</td>\n",
       "      <td>63</td>\n",
       "      <td>0</td>\n",
       "      <td>0</td>\n",
       "      <td>0</td>\n",
       "      <td>0</td>\n",
       "      <td>0</td>\n",
       "      <td>0</td>\n",
       "      <td>0</td>\n",
       "      <td>0</td>\n",
       "      <td>0</td>\n",
       "    </tr>\n",
       "    <tr>\n",
       "      <th>4</th>\n",
       "      <td>4554</td>\n",
       "      <td>4219</td>\n",
       "      <td>5737</td>\n",
       "      <td>3624</td>\n",
       "      <td>6304</td>\n",
       "      <td>4976</td>\n",
       "      <td>2619</td>\n",
       "      <td>2657</td>\n",
       "      <td>5058</td>\n",
       "      <td>254</td>\n",
       "      <td>...</td>\n",
       "      <td>63</td>\n",
       "      <td>0</td>\n",
       "      <td>0</td>\n",
       "      <td>0</td>\n",
       "      <td>0</td>\n",
       "      <td>0</td>\n",
       "      <td>0</td>\n",
       "      <td>0</td>\n",
       "      <td>0</td>\n",
       "      <td>0</td>\n",
       "    </tr>\n",
       "  </tbody>\n",
       "</table>\n",
       "<p>5 rows × 25 columns</p>\n",
       "</div>"
      ],
      "text/plain": [
       "     V1   V10    V2    V3    V4    V5    V6    V7    V8   V9   ...   Root  \\\n",
       "0  4554  4219  5737  3624  6304  4976  2619  2657  5058  254   ...     63   \n",
       "1  4554  4219  5737  3624  6304  4976  2619  2657  5058  254   ...     63   \n",
       "2  4554  4219  5737  3624  6304  4976  2619  2657  5058  254   ...     63   \n",
       "3  4554  4219  5737  3624  6304  4976  2619  2657  5058  254   ...     63   \n",
       "4  4554  4219  5737  3624  6304  4976  2619  2657  5058  254   ...     63   \n",
       "\n",
       "  V2_NA  V3_NA  V4_NA  V5_NA  V6_NA  V7_NA  V8_NA  V9_NA  V10_NA  \n",
       "0     0      0      0      0      0      0      0      0       0  \n",
       "1     0      0      0      0      0      0      0      0       0  \n",
       "2     0      0      0      0      0      0      0      0       0  \n",
       "3     0      0      0      0      0      0      0      0       0  \n",
       "4     0      0      0      0      0      0      0      0       0  \n",
       "\n",
       "[5 rows x 25 columns]"
      ]
     },
     "execution_count": 31,
     "metadata": {},
     "output_type": "execute_result"
    }
   ],
   "source": [
    "fullData.head()"
   ]
  },
  {
   "cell_type": "code",
   "execution_count": 32,
   "metadata": {
    "collapsed": false
   },
   "outputs": [
    {
     "data": {
      "text/plain": [
       "[u'url',\n",
       " u'V10',\n",
       " u'site',\n",
       " u'table-text',\n",
       " u'V1',\n",
       " u'V2',\n",
       " u'V3',\n",
       " u'V4',\n",
       " u'V5',\n",
       " u'V6',\n",
       " u'V7',\n",
       " u'V8',\n",
       " u'V9',\n",
       " 'Root']"
      ]
     },
     "execution_count": 32,
     "metadata": {},
     "output_type": "execute_result"
    }
   ],
   "source": [
    "NA_Cols = ['V2_NA', 'V3_NA','V4_NA', 'V5_NA','V6_NA', 'V7_NA','V8_NA', 'V9_NA', 'V10_NA']\n",
    "features=list(set(list(fullData.columns))-set(ID_col)-set(target_col)-set(other_col)-set(NA_Cols))\n",
    "features"
   ]
  },
  {
   "cell_type": "code",
   "execution_count": 33,
   "metadata": {
    "collapsed": false
   },
   "outputs": [
    {
     "data": {
      "text/html": [
       "<div>\n",
       "<table border=\"1\" class=\"dataframe\">\n",
       "  <thead>\n",
       "    <tr style=\"text-align: right;\">\n",
       "      <th></th>\n",
       "      <th>url</th>\n",
       "      <th>V10</th>\n",
       "      <th>site</th>\n",
       "      <th>table-text</th>\n",
       "      <th>V1</th>\n",
       "      <th>V2</th>\n",
       "      <th>V3</th>\n",
       "      <th>V4</th>\n",
       "      <th>V5</th>\n",
       "      <th>V6</th>\n",
       "      <th>V7</th>\n",
       "      <th>V8</th>\n",
       "      <th>V9</th>\n",
       "      <th>Root</th>\n",
       "    </tr>\n",
       "  </thead>\n",
       "  <tbody>\n",
       "    <tr>\n",
       "      <th>0</th>\n",
       "      <td>4418</td>\n",
       "      <td>4219</td>\n",
       "      <td>0</td>\n",
       "      <td>38002</td>\n",
       "      <td>4554</td>\n",
       "      <td>5737</td>\n",
       "      <td>3624</td>\n",
       "      <td>6304</td>\n",
       "      <td>4976</td>\n",
       "      <td>2619</td>\n",
       "      <td>2657</td>\n",
       "      <td>5058</td>\n",
       "      <td>254</td>\n",
       "      <td>63</td>\n",
       "    </tr>\n",
       "    <tr>\n",
       "      <th>1</th>\n",
       "      <td>4418</td>\n",
       "      <td>4219</td>\n",
       "      <td>0</td>\n",
       "      <td>37131</td>\n",
       "      <td>4554</td>\n",
       "      <td>5737</td>\n",
       "      <td>3624</td>\n",
       "      <td>6304</td>\n",
       "      <td>4976</td>\n",
       "      <td>2619</td>\n",
       "      <td>2657</td>\n",
       "      <td>5058</td>\n",
       "      <td>254</td>\n",
       "      <td>63</td>\n",
       "    </tr>\n",
       "    <tr>\n",
       "      <th>2</th>\n",
       "      <td>4474</td>\n",
       "      <td>4219</td>\n",
       "      <td>0</td>\n",
       "      <td>41218</td>\n",
       "      <td>4554</td>\n",
       "      <td>5737</td>\n",
       "      <td>3624</td>\n",
       "      <td>6304</td>\n",
       "      <td>4976</td>\n",
       "      <td>2619</td>\n",
       "      <td>2657</td>\n",
       "      <td>5058</td>\n",
       "      <td>254</td>\n",
       "      <td>63</td>\n",
       "    </tr>\n",
       "    <tr>\n",
       "      <th>3</th>\n",
       "      <td>4424</td>\n",
       "      <td>4219</td>\n",
       "      <td>0</td>\n",
       "      <td>37954</td>\n",
       "      <td>4554</td>\n",
       "      <td>5737</td>\n",
       "      <td>3624</td>\n",
       "      <td>6304</td>\n",
       "      <td>4976</td>\n",
       "      <td>2619</td>\n",
       "      <td>2657</td>\n",
       "      <td>5058</td>\n",
       "      <td>254</td>\n",
       "      <td>63</td>\n",
       "    </tr>\n",
       "    <tr>\n",
       "      <th>4</th>\n",
       "      <td>4424</td>\n",
       "      <td>4219</td>\n",
       "      <td>0</td>\n",
       "      <td>37131</td>\n",
       "      <td>4554</td>\n",
       "      <td>5737</td>\n",
       "      <td>3624</td>\n",
       "      <td>6304</td>\n",
       "      <td>4976</td>\n",
       "      <td>2619</td>\n",
       "      <td>2657</td>\n",
       "      <td>5058</td>\n",
       "      <td>254</td>\n",
       "      <td>63</td>\n",
       "    </tr>\n",
       "  </tbody>\n",
       "</table>\n",
       "</div>"
      ],
      "text/plain": [
       "    url   V10  site  table-text    V1    V2    V3    V4    V5    V6    V7  \\\n",
       "0  4418  4219     0       38002  4554  5737  3624  6304  4976  2619  2657   \n",
       "1  4418  4219     0       37131  4554  5737  3624  6304  4976  2619  2657   \n",
       "2  4474  4219     0       41218  4554  5737  3624  6304  4976  2619  2657   \n",
       "3  4424  4219     0       37954  4554  5737  3624  6304  4976  2619  2657   \n",
       "4  4424  4219     0       37131  4554  5737  3624  6304  4976  2619  2657   \n",
       "\n",
       "     V8   V9  Root  \n",
       "0  5058  254    63  \n",
       "1  5058  254    63  \n",
       "2  5058  254    63  \n",
       "3  5058  254    63  \n",
       "4  5058  254    63  "
      ]
     },
     "execution_count": 33,
     "metadata": {},
     "output_type": "execute_result"
    }
   ],
   "source": [
    "fullData[features].head()"
   ]
  },
  {
   "cell_type": "code",
   "execution_count": 34,
   "metadata": {
    "collapsed": false
   },
   "outputs": [
    {
     "name": "stderr",
     "output_type": "stream",
     "text": [
      "D:\\Anaconda\\lib\\site-packages\\IPython\\kernel\\__main__.py:2: SettingWithCopyWarning: \n",
      "A value is trying to be set on a copy of a slice from a DataFrame\n",
      "\n",
      "See the the caveats in the documentation: http://pandas.pydata.org/pandas-docs/stable/indexing.html#indexing-view-versus-copy\n",
      "  from IPython.kernel.zmq import kernelapp as app\n",
      "D:\\Anaconda\\lib\\site-packages\\IPython\\kernel\\__main__.py:3: SettingWithCopyWarning: \n",
      "A value is trying to be set on a copy of a slice from a DataFrame\n",
      "\n",
      "See the the caveats in the documentation: http://pandas.pydata.org/pandas-docs/stable/indexing.html#indexing-view-versus-copy\n",
      "  app.launch_new_instance()\n"
     ]
    },
    {
     "data": {
      "text/plain": [
       "0       85429\n",
       "Test    11842\n",
       "1        6416\n",
       "dtype: int64"
      ]
     },
     "execution_count": 34,
     "metadata": {},
     "output_type": "execute_result"
    }
   ],
   "source": [
    "fullData['label']=fullData['label'].astype('object')\n",
    "fullData['label'][fullData['label']=='yes']=1\n",
    "fullData['label'][fullData['label']=='no']=0\n",
    "fullData['label'].value_counts()"
   ]
  },
  {
   "cell_type": "code",
   "execution_count": 35,
   "metadata": {
    "collapsed": true
   },
   "outputs": [],
   "source": [
    "IndixDM_Train=fullData[fullData['label']!='Test']\n",
    "IndixDM_Test=fullData[fullData['label']=='Test']\n"
   ]
  },
  {
   "cell_type": "code",
   "execution_count": 36,
   "metadata": {
    "collapsed": false
   },
   "outputs": [
    {
     "ename": "NameError",
     "evalue": "name 'Root_test' is not defined",
     "output_type": "error",
     "traceback": [
      "\u001b[1;31m---------------------------------------------------------------------------\u001b[0m",
      "\u001b[1;31mNameError\u001b[0m                                 Traceback (most recent call last)",
      "\u001b[1;32m<ipython-input-36-be1dfbddfa57>\u001b[0m in \u001b[0;36m<module>\u001b[1;34m()\u001b[0m\n\u001b[1;32m----> 1\u001b[1;33m \u001b[0mRoot_test\u001b[0m\u001b[1;33m[\u001b[0m\u001b[1;34m'Root'\u001b[0m\u001b[1;33m]\u001b[0m\u001b[1;33m.\u001b[0m\u001b[0mhead\u001b[0m\u001b[1;33m(\u001b[0m\u001b[1;33m)\u001b[0m\u001b[1;33m\u001b[0m\u001b[0m\n\u001b[0m",
      "\u001b[1;31mNameError\u001b[0m: name 'Root_test' is not defined"
     ]
    }
   ],
   "source": [
    "Root_test['Root'].head()"
   ]
  },
  {
   "cell_type": "code",
   "execution_count": 190,
   "metadata": {
    "collapsed": false
   },
   "outputs": [
    {
     "name": "stderr",
     "output_type": "stream",
     "text": [
      "D:\\Anaconda\\lib\\site-packages\\IPython\\kernel\\__main__.py:1: SettingWithCopyWarning: \n",
      "A value is trying to be set on a copy of a slice from a DataFrame.\n",
      "Try using .loc[row_indexer,col_indexer] = value instead\n",
      "\n",
      "See the the caveats in the documentation: http://pandas.pydata.org/pandas-docs/stable/indexing.html#indexing-view-versus-copy\n",
      "  if __name__ == '__main__':\n"
     ]
    }
   ],
   "source": [
    "IndixDM_Train['Root']=Root_train['Root']\n",
    "IndixDM_Test['Root']=Root_test['Root']"
   ]
  },
  {
   "cell_type": "code",
   "execution_count": 37,
   "metadata": {
    "collapsed": false
   },
   "outputs": [
    {
     "data": {
      "text/plain": [
       "91845    49\n",
       "91846    88\n",
       "91847    88\n",
       "91848    88\n",
       "91849    88\n",
       "Name: Root, dtype: int16"
      ]
     },
     "execution_count": 37,
     "metadata": {},
     "output_type": "execute_result"
    }
   ],
   "source": [
    "IndixDM_Test['Root'].head()"
   ]
  },
  {
   "cell_type": "code",
   "execution_count": 38,
   "metadata": {
    "collapsed": false
   },
   "outputs": [
    {
     "name": "stdout",
     "output_type": "stream",
     "text": [
      "91845\n",
      "11842\n"
     ]
    }
   ],
   "source": [
    "print IndixDM_Train.shape[0]\n",
    "print IndixDM_Test.shape[0]"
   ]
  },
  {
   "cell_type": "code",
   "execution_count": 68,
   "metadata": {
    "collapsed": false
   },
   "outputs": [
    {
     "data": {
      "text/plain": [
       "Index([        u'V1',        u'V10',         u'V2',         u'V3',\n",
       "               u'V4',         u'V5',         u'V6',         u'V7',\n",
       "               u'V8',         u'V9',         u'id',      u'label',\n",
       "             u'site', u'table-text',        u'url',      u'V2_NA',\n",
       "            u'V3_NA',      u'V4_NA',      u'V5_NA',      u'V6_NA',\n",
       "            u'V7_NA',      u'V8_NA',      u'V9_NA',     u'V10_NA'],\n",
       "      dtype='object')"
      ]
     },
     "execution_count": 68,
     "metadata": {},
     "output_type": "execute_result"
    }
   ],
   "source": [
    "fullData.columns"
   ]
  },
  {
   "cell_type": "code",
   "execution_count": 167,
   "metadata": {
    "collapsed": false
   },
   "outputs": [
    {
     "data": {
      "text/plain": [
       "[u'url',\n",
       " u'V10',\n",
       " u'V1',\n",
       " u'V2',\n",
       " u'V3',\n",
       " u'V4',\n",
       " u'V5',\n",
       " u'V6',\n",
       " u'V7',\n",
       " u'V8',\n",
       " u'V9',\n",
       " 'table-text',\n",
       " 'Root']"
      ]
     },
     "execution_count": 167,
     "metadata": {},
     "output_type": "execute_result"
    }
   ],
   "source": [
    "#features.append('table-text')\n",
    "#features.append('Root')\n",
    "\n",
    "features"
   ]
  },
  {
   "cell_type": "code",
   "execution_count": 39,
   "metadata": {
    "collapsed": false
   },
   "outputs": [
    {
     "data": {
      "text/plain": [
       "[u'url',\n",
       " u'V10',\n",
       " u'site',\n",
       " u'table-text',\n",
       " u'V1',\n",
       " u'V2',\n",
       " u'V3',\n",
       " u'V4',\n",
       " u'V5',\n",
       " u'V6',\n",
       " u'V7',\n",
       " u'V8',\n",
       " u'V9',\n",
       " 'Root']"
      ]
     },
     "execution_count": 39,
     "metadata": {},
     "output_type": "execute_result"
    }
   ],
   "source": [
    "#Run 1\n",
    "x_train = IndixDM_Train[list(features)].values #removed Train because auc is not working\n",
    "y_train = IndixDM_Train[\"label\"].values #\n",
    "x_test=IndixDM_Test[list(features)].values\n",
    "features"
   ]
  },
  {
   "cell_type": "code",
   "execution_count": 93,
   "metadata": {
    "collapsed": false
   },
   "outputs": [
    {
     "data": {
      "text/plain": [
       "[u'url', u'V10', u'V1', u'V2', u'V3', u'V4', u'V5', u'V6', u'V7', u'V8', u'V9']"
      ]
     },
     "execution_count": 93,
     "metadata": {},
     "output_type": "execute_result"
    }
   ],
   "source": [
    "#Run 2\n",
    "Remove=['table-text','site']\n",
    "features=list(set(features)-set(Remove))\n",
    "x_train = IndixDM_Train[list(features)].values #removed Train because auc is not working\n",
    "y_train = IndixDM_Train[\"label\"].values #\n",
    "x_test=IndixDM_Test[list(features)].values\n",
    "features"
   ]
  },
  {
   "cell_type": "code",
   "execution_count": 192,
   "metadata": {
    "collapsed": false
   },
   "outputs": [
    {
     "data": {
      "text/plain": [
       "[u'url',\n",
       " u'V10',\n",
       " u'V1',\n",
       " u'V2',\n",
       " u'V3',\n",
       " u'V4',\n",
       " u'V5',\n",
       " u'V6',\n",
       " u'V7',\n",
       " u'V8',\n",
       " u'V9',\n",
       " 'table-text',\n",
       " 'Root']"
      ]
     },
     "execution_count": 192,
     "metadata": {},
     "output_type": "execute_result"
    }
   ],
   "source": [
    "#Run 3 --Added root website\n",
    "x_train = IndixDM_Train[list(features)].values #removed Train because auc is not working\n",
    "y_train = IndixDM_Train[\"label\"].values #\n",
    "x_test=IndixDM_Test[list(features)].values\n",
    "features"
   ]
  },
  {
   "cell_type": "code",
   "execution_count": 171,
   "metadata": {
    "collapsed": false
   },
   "outputs": [
    {
     "data": {
      "text/html": [
       "<div>\n",
       "<table border=\"1\" class=\"dataframe\">\n",
       "  <thead>\n",
       "    <tr style=\"text-align: right;\">\n",
       "      <th></th>\n",
       "      <th>url</th>\n",
       "      <th>V10</th>\n",
       "      <th>V1</th>\n",
       "      <th>V2</th>\n",
       "      <th>V3</th>\n",
       "      <th>V4</th>\n",
       "      <th>V5</th>\n",
       "      <th>V6</th>\n",
       "      <th>V7</th>\n",
       "      <th>V8</th>\n",
       "      <th>V9</th>\n",
       "      <th>table-text</th>\n",
       "      <th>Root</th>\n",
       "    </tr>\n",
       "  </thead>\n",
       "  <tbody>\n",
       "    <tr>\n",
       "      <th>count</th>\n",
       "      <td>11842.000000</td>\n",
       "      <td>11842.000000</td>\n",
       "      <td>11842.000000</td>\n",
       "      <td>11842.000000</td>\n",
       "      <td>11842.000000</td>\n",
       "      <td>11842.000000</td>\n",
       "      <td>11842.000000</td>\n",
       "      <td>11842.000000</td>\n",
       "      <td>11842.00000</td>\n",
       "      <td>11842.000000</td>\n",
       "      <td>11842.000000</td>\n",
       "      <td>11842.000000</td>\n",
       "      <td>0</td>\n",
       "    </tr>\n",
       "    <tr>\n",
       "      <th>mean</th>\n",
       "      <td>6581.371474</td>\n",
       "      <td>2909.477706</td>\n",
       "      <td>3474.380257</td>\n",
       "      <td>4994.693379</td>\n",
       "      <td>3678.528374</td>\n",
       "      <td>4335.069836</td>\n",
       "      <td>3285.952373</td>\n",
       "      <td>4168.144739</td>\n",
       "      <td>2900.28230</td>\n",
       "      <td>3416.703260</td>\n",
       "      <td>2589.879834</td>\n",
       "      <td>16922.691522</td>\n",
       "      <td>NaN</td>\n",
       "    </tr>\n",
       "    <tr>\n",
       "      <th>std</th>\n",
       "      <td>2752.719866</td>\n",
       "      <td>780.534997</td>\n",
       "      <td>1885.519808</td>\n",
       "      <td>2191.972927</td>\n",
       "      <td>1551.460460</td>\n",
       "      <td>1508.965225</td>\n",
       "      <td>1232.677552</td>\n",
       "      <td>1244.670337</td>\n",
       "      <td>1078.37173</td>\n",
       "      <td>1125.748366</td>\n",
       "      <td>869.546609</td>\n",
       "      <td>11917.548682</td>\n",
       "      <td>NaN</td>\n",
       "    </tr>\n",
       "    <tr>\n",
       "      <th>min</th>\n",
       "      <td>377.000000</td>\n",
       "      <td>0.000000</td>\n",
       "      <td>3.000000</td>\n",
       "      <td>0.000000</td>\n",
       "      <td>2.000000</td>\n",
       "      <td>0.000000</td>\n",
       "      <td>1.000000</td>\n",
       "      <td>0.000000</td>\n",
       "      <td>318.00000</td>\n",
       "      <td>0.000000</td>\n",
       "      <td>7.000000</td>\n",
       "      <td>1.000000</td>\n",
       "      <td>NaN</td>\n",
       "    </tr>\n",
       "    <tr>\n",
       "      <th>25%</th>\n",
       "      <td>3730.000000</td>\n",
       "      <td>2973.000000</td>\n",
       "      <td>2144.000000</td>\n",
       "      <td>3828.000000</td>\n",
       "      <td>2569.000000</td>\n",
       "      <td>3859.500000</td>\n",
       "      <td>2655.250000</td>\n",
       "      <td>4277.000000</td>\n",
       "      <td>3067.00000</td>\n",
       "      <td>3626.000000</td>\n",
       "      <td>2749.000000</td>\n",
       "      <td>6613.000000</td>\n",
       "      <td>NaN</td>\n",
       "    </tr>\n",
       "    <tr>\n",
       "      <th>50%</th>\n",
       "      <td>8299.000000</td>\n",
       "      <td>2973.000000</td>\n",
       "      <td>3559.000000</td>\n",
       "      <td>5260.000000</td>\n",
       "      <td>3881.000000</td>\n",
       "      <td>4346.000000</td>\n",
       "      <td>3567.000000</td>\n",
       "      <td>4277.000000</td>\n",
       "      <td>3120.00000</td>\n",
       "      <td>3626.000000</td>\n",
       "      <td>2749.000000</td>\n",
       "      <td>16259.500000</td>\n",
       "      <td>NaN</td>\n",
       "    </tr>\n",
       "    <tr>\n",
       "      <th>75%</th>\n",
       "      <td>8336.000000</td>\n",
       "      <td>2973.000000</td>\n",
       "      <td>4899.000000</td>\n",
       "      <td>6670.000000</td>\n",
       "      <td>4844.000000</td>\n",
       "      <td>5291.000000</td>\n",
       "      <td>3687.000000</td>\n",
       "      <td>4542.500000</td>\n",
       "      <td>3120.00000</td>\n",
       "      <td>3626.000000</td>\n",
       "      <td>2749.000000</td>\n",
       "      <td>24202.000000</td>\n",
       "      <td>NaN</td>\n",
       "    </tr>\n",
       "    <tr>\n",
       "      <th>max</th>\n",
       "      <td>10751.000000</td>\n",
       "      <td>4299.000000</td>\n",
       "      <td>6072.000000</td>\n",
       "      <td>7836.000000</td>\n",
       "      <td>5857.000000</td>\n",
       "      <td>6404.000000</td>\n",
       "      <td>5215.000000</td>\n",
       "      <td>5982.000000</td>\n",
       "      <td>4678.00000</td>\n",
       "      <td>5150.000000</td>\n",
       "      <td>4211.000000</td>\n",
       "      <td>43611.000000</td>\n",
       "      <td>NaN</td>\n",
       "    </tr>\n",
       "  </tbody>\n",
       "</table>\n",
       "</div>"
      ],
      "text/plain": [
       "                url           V10            V1            V2            V3  \\\n",
       "count  11842.000000  11842.000000  11842.000000  11842.000000  11842.000000   \n",
       "mean    6581.371474   2909.477706   3474.380257   4994.693379   3678.528374   \n",
       "std     2752.719866    780.534997   1885.519808   2191.972927   1551.460460   \n",
       "min      377.000000      0.000000      3.000000      0.000000      2.000000   \n",
       "25%     3730.000000   2973.000000   2144.000000   3828.000000   2569.000000   \n",
       "50%     8299.000000   2973.000000   3559.000000   5260.000000   3881.000000   \n",
       "75%     8336.000000   2973.000000   4899.000000   6670.000000   4844.000000   \n",
       "max    10751.000000   4299.000000   6072.000000   7836.000000   5857.000000   \n",
       "\n",
       "                 V4            V5            V6           V7            V8  \\\n",
       "count  11842.000000  11842.000000  11842.000000  11842.00000  11842.000000   \n",
       "mean    4335.069836   3285.952373   4168.144739   2900.28230   3416.703260   \n",
       "std     1508.965225   1232.677552   1244.670337   1078.37173   1125.748366   \n",
       "min        0.000000      1.000000      0.000000    318.00000      0.000000   \n",
       "25%     3859.500000   2655.250000   4277.000000   3067.00000   3626.000000   \n",
       "50%     4346.000000   3567.000000   4277.000000   3120.00000   3626.000000   \n",
       "75%     5291.000000   3687.000000   4542.500000   3120.00000   3626.000000   \n",
       "max     6404.000000   5215.000000   5982.000000   4678.00000   5150.000000   \n",
       "\n",
       "                 V9    table-text  Root  \n",
       "count  11842.000000  11842.000000     0  \n",
       "mean    2589.879834  16922.691522   NaN  \n",
       "std      869.546609  11917.548682   NaN  \n",
       "min        7.000000      1.000000   NaN  \n",
       "25%     2749.000000   6613.000000   NaN  \n",
       "50%     2749.000000  16259.500000   NaN  \n",
       "75%     2749.000000  24202.000000   NaN  \n",
       "max     4211.000000  43611.000000   NaN  "
      ]
     },
     "execution_count": 171,
     "metadata": {},
     "output_type": "execute_result"
    }
   ],
   "source": [
    "IndixDM_Test[list(features)].describe()"
   ]
  },
  {
   "cell_type": "code",
   "execution_count": 169,
   "metadata": {
    "collapsed": false
   },
   "outputs": [
    {
     "data": {
      "text/plain": [
       "RandomForestClassifier(bootstrap=True, class_weight=None, criterion='gini',\n",
       "            max_depth=None, max_features='auto', max_leaf_nodes=None,\n",
       "            min_samples_leaf=1, min_samples_split=2,\n",
       "            min_weight_fraction_leaf=0.0, n_estimators=1000, n_jobs=1,\n",
       "            oob_score=False, random_state=None, verbose=0,\n",
       "            warm_start=False)"
      ]
     },
     "execution_count": 169,
     "metadata": {},
     "output_type": "execute_result"
    }
   ],
   "source": [
    "import random as random\n",
    "from  sklearn.ensemble import RandomForestClassifier\n",
    "random.seed(100)\n",
    "rf = RandomForestClassifier(n_estimators=1000)\n",
    "rf.fit(x_train, y_train)"
   ]
  },
  {
   "cell_type": "code",
   "execution_count": 193,
   "metadata": {
    "collapsed": false
   },
   "outputs": [
    {
     "data": {
      "text/plain": [
       "11842"
      ]
     },
     "execution_count": 193,
     "metadata": {},
     "output_type": "execute_result"
    }
   ],
   "source": [
    "final_status_class = rf.predict(x_test)\n",
    "len(final_status_class)"
   ]
  },
  {
   "cell_type": "code",
   "execution_count": 194,
   "metadata": {
    "collapsed": true
   },
   "outputs": [],
   "source": [
    "def yesno(a):\n",
    "    if (a=='1'):\n",
    "        return'yes'\n",
    "    else:\n",
    "        return'no'"
   ]
  },
  {
   "cell_type": "code",
   "execution_count": 195,
   "metadata": {
    "collapsed": false
   },
   "outputs": [
    {
     "ename": "KeyError",
     "evalue": "'label_RF'",
     "output_type": "error",
     "traceback": [
      "\u001b[1;31m---------------------------------------------------------------------------\u001b[0m",
      "\u001b[1;31mKeyError\u001b[0m                                  Traceback (most recent call last)",
      "\u001b[1;32m<ipython-input-195-164c9de046b2>\u001b[0m in \u001b[0;36m<module>\u001b[1;34m()\u001b[0m\n\u001b[1;32m----> 1\u001b[1;33m \u001b[1;32mdel\u001b[0m \u001b[0mIndixDM_Test\u001b[0m\u001b[1;33m[\u001b[0m\u001b[1;34m\"label_RF\"\u001b[0m\u001b[1;33m]\u001b[0m\u001b[1;33m\u001b[0m\u001b[0m\n\u001b[0m",
      "\u001b[1;32mD:\\Anaconda\\lib\\site-packages\\pandas\\core\\generic.pyc\u001b[0m in \u001b[0;36m__delitem__\u001b[1;34m(self, key)\u001b[0m\n\u001b[0;32m   1330\u001b[0m             \u001b[1;31m# there was no match, this call should raise the appropriate\u001b[0m\u001b[1;33m\u001b[0m\u001b[1;33m\u001b[0m\u001b[0m\n\u001b[0;32m   1331\u001b[0m             \u001b[1;31m# exception:\u001b[0m\u001b[1;33m\u001b[0m\u001b[1;33m\u001b[0m\u001b[0m\n\u001b[1;32m-> 1332\u001b[1;33m             \u001b[0mself\u001b[0m\u001b[1;33m.\u001b[0m\u001b[0m_data\u001b[0m\u001b[1;33m.\u001b[0m\u001b[0mdelete\u001b[0m\u001b[1;33m(\u001b[0m\u001b[0mkey\u001b[0m\u001b[1;33m)\u001b[0m\u001b[1;33m\u001b[0m\u001b[0m\n\u001b[0m\u001b[0;32m   1333\u001b[0m \u001b[1;33m\u001b[0m\u001b[0m\n\u001b[0;32m   1334\u001b[0m         \u001b[1;32mtry\u001b[0m\u001b[1;33m:\u001b[0m\u001b[1;33m\u001b[0m\u001b[0m\n",
      "\u001b[1;32mD:\\Anaconda\\lib\\site-packages\\pandas\\core\\internals.pyc\u001b[0m in \u001b[0;36mdelete\u001b[1;34m(self, item)\u001b[0m\n\u001b[0;32m   2907\u001b[0m         \u001b[0mDelete\u001b[0m \u001b[0mselected\u001b[0m \u001b[0mitem\u001b[0m \u001b[1;33m(\u001b[0m\u001b[0mitems\u001b[0m \u001b[1;32mif\u001b[0m \u001b[0mnon\u001b[0m\u001b[1;33m-\u001b[0m\u001b[0munique\u001b[0m\u001b[1;33m)\u001b[0m \u001b[1;32min\u001b[0m\u001b[1;33m-\u001b[0m\u001b[0mplace\u001b[0m\u001b[1;33m.\u001b[0m\u001b[1;33m\u001b[0m\u001b[0m\n\u001b[0;32m   2908\u001b[0m         \"\"\"\n\u001b[1;32m-> 2909\u001b[1;33m         \u001b[0mindexer\u001b[0m \u001b[1;33m=\u001b[0m \u001b[0mself\u001b[0m\u001b[1;33m.\u001b[0m\u001b[0mitems\u001b[0m\u001b[1;33m.\u001b[0m\u001b[0mget_loc\u001b[0m\u001b[1;33m(\u001b[0m\u001b[0mitem\u001b[0m\u001b[1;33m)\u001b[0m\u001b[1;33m\u001b[0m\u001b[0m\n\u001b[0m\u001b[0;32m   2910\u001b[0m \u001b[1;33m\u001b[0m\u001b[0m\n\u001b[0;32m   2911\u001b[0m         \u001b[0mis_deleted\u001b[0m \u001b[1;33m=\u001b[0m \u001b[0mnp\u001b[0m\u001b[1;33m.\u001b[0m\u001b[0mzeros\u001b[0m\u001b[1;33m(\u001b[0m\u001b[0mself\u001b[0m\u001b[1;33m.\u001b[0m\u001b[0mshape\u001b[0m\u001b[1;33m[\u001b[0m\u001b[1;36m0\u001b[0m\u001b[1;33m]\u001b[0m\u001b[1;33m,\u001b[0m \u001b[0mdtype\u001b[0m\u001b[1;33m=\u001b[0m\u001b[0mnp\u001b[0m\u001b[1;33m.\u001b[0m\u001b[0mbool_\u001b[0m\u001b[1;33m)\u001b[0m\u001b[1;33m\u001b[0m\u001b[0m\n",
      "\u001b[1;32mD:\\Anaconda\\lib\\site-packages\\pandas\\core\\index.pyc\u001b[0m in \u001b[0;36mget_loc\u001b[1;34m(self, key, method)\u001b[0m\n\u001b[0;32m   1570\u001b[0m         \"\"\"\n\u001b[0;32m   1571\u001b[0m         \u001b[1;32mif\u001b[0m \u001b[0mmethod\u001b[0m \u001b[1;32mis\u001b[0m \u001b[0mNone\u001b[0m\u001b[1;33m:\u001b[0m\u001b[1;33m\u001b[0m\u001b[0m\n\u001b[1;32m-> 1572\u001b[1;33m             \u001b[1;32mreturn\u001b[0m \u001b[0mself\u001b[0m\u001b[1;33m.\u001b[0m\u001b[0m_engine\u001b[0m\u001b[1;33m.\u001b[0m\u001b[0mget_loc\u001b[0m\u001b[1;33m(\u001b[0m\u001b[0m_values_from_object\u001b[0m\u001b[1;33m(\u001b[0m\u001b[0mkey\u001b[0m\u001b[1;33m)\u001b[0m\u001b[1;33m)\u001b[0m\u001b[1;33m\u001b[0m\u001b[0m\n\u001b[0m\u001b[0;32m   1573\u001b[0m \u001b[1;33m\u001b[0m\u001b[0m\n\u001b[0;32m   1574\u001b[0m         \u001b[0mindexer\u001b[0m \u001b[1;33m=\u001b[0m \u001b[0mself\u001b[0m\u001b[1;33m.\u001b[0m\u001b[0mget_indexer\u001b[0m\u001b[1;33m(\u001b[0m\u001b[1;33m[\u001b[0m\u001b[0mkey\u001b[0m\u001b[1;33m]\u001b[0m\u001b[1;33m,\u001b[0m \u001b[0mmethod\u001b[0m\u001b[1;33m=\u001b[0m\u001b[0mmethod\u001b[0m\u001b[1;33m)\u001b[0m\u001b[1;33m\u001b[0m\u001b[0m\n",
      "\u001b[1;32mpandas\\index.pyx\u001b[0m in \u001b[0;36mpandas.index.IndexEngine.get_loc (pandas\\index.c:3824)\u001b[1;34m()\u001b[0m\n",
      "\u001b[1;32mpandas\\index.pyx\u001b[0m in \u001b[0;36mpandas.index.IndexEngine.get_loc (pandas\\index.c:3704)\u001b[1;34m()\u001b[0m\n",
      "\u001b[1;32mpandas\\hashtable.pyx\u001b[0m in \u001b[0;36mpandas.hashtable.PyObjectHashTable.get_item (pandas\\hashtable.c:12280)\u001b[1;34m()\u001b[0m\n",
      "\u001b[1;32mpandas\\hashtable.pyx\u001b[0m in \u001b[0;36mpandas.hashtable.PyObjectHashTable.get_item (pandas\\hashtable.c:12231)\u001b[1;34m()\u001b[0m\n",
      "\u001b[1;31mKeyError\u001b[0m: 'label_RF'"
     ]
    }
   ],
   "source": [
    "del IndixDM_Test[\"label_RF\"] "
   ]
  },
  {
   "cell_type": "code",
   "execution_count": 196,
   "metadata": {
    "collapsed": false
   },
   "outputs": [
    {
     "data": {
      "text/plain": [
       "11842"
      ]
     },
     "execution_count": 196,
     "metadata": {},
     "output_type": "execute_result"
    }
   ],
   "source": [
    "len(final_status_class.astype('str'))"
   ]
  },
  {
   "cell_type": "code",
   "execution_count": 197,
   "metadata": {
    "collapsed": false,
    "scrolled": true
   },
   "outputs": [
    {
     "data": {
      "text/plain": [
       "0    11249\n",
       "1      593\n",
       "dtype: int64"
      ]
     },
     "execution_count": 197,
     "metadata": {},
     "output_type": "execute_result"
    }
   ],
   "source": [
    "df=pd.DataFrame.from_records((final_status_class.astype('str')))\n",
    "df[0].value_counts()\n",
    "#run 1\n",
    "#0    10902\n",
    "#1      940\n",
    "#run 2\n",
    "#0    11164\n",
    "#1      678\n",
    "#run 3\n",
    "#0    11249\n",
    "#1      593"
   ]
  },
  {
   "cell_type": "code",
   "execution_count": 198,
   "metadata": {
    "collapsed": false,
    "scrolled": false
   },
   "outputs": [
    {
     "data": {
      "text/plain": [
       "no     11249\n",
       "yes      593\n",
       "dtype: int64"
      ]
     },
     "execution_count": 198,
     "metadata": {},
     "output_type": "execute_result"
    }
   ],
   "source": [
    "df[0]=df[0].apply(lambda x:yesno(x))\n",
    "df[0].value_counts()"
   ]
  },
  {
   "cell_type": "code",
   "execution_count": 199,
   "metadata": {
    "collapsed": true
   },
   "outputs": [],
   "source": [
    "df.to_csv('RF_submit3.csv',columns=[0],index=False)"
   ]
  },
  {
   "cell_type": "code",
   "execution_count": 216,
   "metadata": {
    "collapsed": false
   },
   "outputs": [],
   "source": [
    "import sys\n",
    "sys.path.append('./xgboost')"
   ]
  },
  {
   "cell_type": "code",
   "execution_count": 219,
   "metadata": {
    "collapsed": false
   },
   "outputs": [
    {
     "ename": "ImportError",
     "evalue": "No module named xgboost",
     "output_type": "error",
     "traceback": [
      "\u001b[1;31m---------------------------------------------------------------------------\u001b[0m",
      "\u001b[1;31mImportError\u001b[0m                               Traceback (most recent call last)",
      "\u001b[1;32m<ipython-input-219-2b413ce3d290>\u001b[0m in \u001b[0;36m<module>\u001b[1;34m()\u001b[0m\n\u001b[1;32m----> 1\u001b[1;33m \u001b[1;32mimport\u001b[0m \u001b[0mxgboost\u001b[0m \u001b[1;32mas\u001b[0m \u001b[0mxgb\u001b[0m\u001b[1;33m\u001b[0m\u001b[0m\n\u001b[0m\u001b[0;32m      2\u001b[0m \u001b[0mparams\u001b[0m \u001b[1;33m=\u001b[0m \u001b[1;33m{\u001b[0m\u001b[1;33m}\u001b[0m\u001b[1;33m\u001b[0m\u001b[0m\n\u001b[0;32m      3\u001b[0m \u001b[0mparams\u001b[0m\u001b[1;33m[\u001b[0m\u001b[1;34m\"objective\"\u001b[0m\u001b[1;33m]\u001b[0m \u001b[1;33m=\u001b[0m \u001b[1;34m\"binary:logistic\"\u001b[0m\u001b[1;33m\u001b[0m\u001b[0m\n\u001b[0;32m      4\u001b[0m \u001b[0mparams\u001b[0m\u001b[1;33m[\u001b[0m\u001b[1;34m'eval_metric'\u001b[0m\u001b[1;33m]\u001b[0m \u001b[1;33m=\u001b[0m \u001b[1;34m'auc'\u001b[0m\u001b[1;33m\u001b[0m\u001b[0m\n\u001b[0;32m      5\u001b[0m \u001b[0mparams\u001b[0m\u001b[1;33m[\u001b[0m\u001b[1;34m\"eta\"\u001b[0m\u001b[1;33m]\u001b[0m \u001b[1;33m=\u001b[0m \u001b[1;36m0.01\u001b[0m\u001b[1;33m\u001b[0m\u001b[0m\n",
      "\u001b[1;31mImportError\u001b[0m: No module named xgboost"
     ]
    }
   ],
   "source": [
    "#xgboost is not getting installed\n",
    "import xgboost as xgb\n",
    "params = {}\n",
    "params[\"objective\"] = \"binary:logistic\"\n",
    "params['eval_metric'] = 'auc'\n",
    "params[\"eta\"] = 0.01 \n",
    "params[\"min_child_weight\"] = 2\n",
    "params[\"subsample\"] = 0.55\n",
    "params[\"colsample_bytree\"] = 0.9\n",
    "params[\"silent\"] = 1\n",
    "params[\"max_depth\"] = 4\n",
    "params[\"seed\"] = seed_val\n",
    "params[\"max_delta_step\"] = 2\n",
    "num_rounds = round_val"
   ]
  },
  {
   "cell_type": "code",
   "execution_count": 49,
   "metadata": {
    "collapsed": false
   },
   "outputs": [
    {
     "data": {
      "text/plain": [
       "0    <table id=\"selectedProduct\">\\r\\n<tr>\\r\\n<th cl...\n",
       "Name: table-text, dtype: object"
      ]
     },
     "execution_count": 49,
     "metadata": {},
     "output_type": "execute_result"
    }
   ],
   "source": [
    "Indix_Sample=fullDataText.head(1)\n",
    "Indix_Sample['table-text']"
   ]
  },
  {
   "cell_type": "code",
   "execution_count": 56,
   "metadata": {
    "collapsed": false
   },
   "outputs": [
    {
     "name": "stdout",
     "output_type": "stream",
     "text": [
      "[ u'<table id=\"selectedProduct\">\\r\\n<tr>\\r\\n<th class=\"left\"></th>\\r\\n<th class=\"title\" colspan=\"2\">Selected Product</th>\\r\\n<th>Price</th>\\r\\n<th>Make Selections</th>\\r\\n<th>qty</th>\\r\\n<th class=\"link\"><a class=\"backtotop\" href=\"#\" id=\"btt\">back to top</a></th>\\r\\n</tr>\\r\\n<tr valign=\"top\">\\r\\n<td></td>\\r\\n<td class=\"img\"> <!--requested size-%%%--><img alt=\"&amp;&amp;\" border=\"0\" css_style=\"\" src=\"//cdn.gandermountain.com/product/746/swatches/746134_AQUA_1.jpg?interpolation=lanczos-none&amp;downsize=50px:*\"/><!--using size-%%%-->\\r\\n</td>\\r\\n<td class=\"title\">\\r\\n<h1>CORRCTCRAFT NTIQUE EXCEL BR DNT COVER</h1>\\r\\n<p class=\"item\">Item # 746134</p>\\r\\n</td>\\r\\n<td class=\"price\">\\r\\n<!--begin_item_pricing-->\\r\\n<!--special_parse-->\\r\\n<div class=\"price\"> \\xa0<span class=\"regstrk\">$730.99</span></div>\\r\\n<div class=\"saleprice\"> \\xa0<span>$621.34</span></div>\\r\\n<!--end_item_pricing-->\\r\\n</td>\\r\\n<td class=\"options\">\\r\\n<!--begin_lower_selects-->\\r\\n<!--special_parse-->\\r\\n<div class=\"attributes\">\\r\\n<!--begin_select_style_box-->\\r\\n<!-- if selection is required -->\\r\\n<div class=\"requiredAttr\">*</div><div class=\"attrRequired\"><select class=\"required_field\" id=\"lwrstyle1val1\" name=\"lwrstyle1val1\">\\r\\n<option selected=\"selected\" value=\"\">Color</option>\\r\\n<option value=\"Aqua\">Aqua - $621.34</option>\\r\\n<option value=\"PacificBlue\">PacificBlue - $621.34</option>\\r\\n<option value=\"Linen\">Linen - $621.34</option>\\r\\n<option value=\"Gray\">Gray - $621.34</option>\\r\\n<option value=\"Burgundy\">Burgundy - $621.34</option>\\r\\n<option value=\"Black\">Black - $621.34</option>\\r\\n<option value=\"Navy\">Navy - $621.34</option>\\r\\n<option value=\"Natural\">Natural - $621.34</option>\\r\\n<option value=\"Red\">Red - $621.34</option>\\r\\n<option value=\"Forest Green\">Forest Green - $621.34</option>\\r\\n</select></div>\\r\\n<div style=\"clear: both; padding: 5px 0;\"></div>\\r\\n<!--end_select_style_box-->\\r\\n<div style=\"clear: both; padding: 5px 0;\">\\r\\n<div class=\"requiredText\">*required</div>\\r\\n</div>\\r\\n</div>\\r\\n<!--end_lower_selects-->\\r\\n</td>\\r\\n<td class=\"qty\" colspan=\"2\" valign=\"top\">\\r\\n<!-- R.3 Editable Quantity Field -->\\r\\n<input class=\"ignore quantity_input\" id=\"selectedQty\" maxlength=\"3\" name=\"quan1\" type=\"text\" value=\"0\">\\r\\n<!-- R.4 Availability - should update w/ selection or show \"Make selections to see stock information\" -->\\r\\n<div class=\"availMsg\">\\r\\n<p class=\"stockstatus\"><span class=\"title\">Availability:</span><br/><span class=\"info\">Make Selections</span></p>\\r\\n</div>\\r\\n</input></td>\\r\\n</tr>\\r\\n</table>']\n",
      "('Data     :', '0    ')\n",
      "('Start tag:', 'table')\n",
      "('     attr:', ('id', 'selectedProduct'))\n",
      "('Data     :', '\\\\r\\\\n')\n",
      "('Start tag:', 'tr')\n",
      "('Data     :', '\\\\r\\\\n')\n"
     ]
    }
   ],
   "source": [
    "from HTMLParser import HTMLParser\n",
    "#from htmlentities import name2codepoint\n",
    "\n",
    "class MyHTMLParser(HTMLParser):\n",
    "    def handle_starttag(self, tag, attrs):\n",
    "        print(\"Start tag:\", tag)\n",
    "        for attr in attrs:\n",
    "            print(\"     attr:\", attr)\n",
    "\n",
    "    def handle_endtag(self, tag):\n",
    "        print(\"End tag  :\", tag)\n",
    "\n",
    "    def handle_data(self, data):\n",
    "        print(\"Data     :\", data)\n",
    "\n",
    "    def handle_comment(self, data):\n",
    "        print(\"Comment  :\", data)\n",
    "\n",
    "    def handle_entityref(self, name):\n",
    "        #c = chr(name2codepoint[name])\n",
    "        print(\"Named ent:\", name)\n",
    "\n",
    "    def handle_charref(self, name):\n",
    "        if name.startswith('x'):\n",
    "            c = chr(int(name[1:], 16))\n",
    "        else:\n",
    "            c = chr(int(name))\n",
    "        print(\"Num ent  :\", c)\n",
    "\n",
    "    def handle_decl(self, data):\n",
    "        print(\"Decl     :\", data)\n",
    "\n",
    "parser = MyHTMLParser()\n",
    "print str(Indix_Sample['table-text'].values)\n",
    "parser.feed(str(Indix_Sample['table-text']))"
   ]
  },
  {
   "cell_type": "code",
   "execution_count": null,
   "metadata": {
    "collapsed": true
   },
   "outputs": [],
   "source": [
    "class myhtmlparser(HTMLParser):\n",
    "    def __init__(self):\n",
    "        self.reset()\n",
    "        self.HTMLDATA = []\n",
    "    def handle_data(self, data):\n",
    "        self.HTMLDATA.append(data.strip(' \\n\\t\\r'))\n",
    "\n",
    "    def clean(self):\n",
    "        self.HTMLDATA = []\n",
    "\n",
    "parser = myhtmlparser()\n",
    "parser.feed(pstring)\n",
    "\n",
    "# Extract data from parser\n",
    "data  = parser.HTMLDATA\n",
    "\n",
    "#remove invalids\n",
    "data=filter(None,data)\n",
    "# Clean the parser\n",
    "parser.clean()\n",
    "\n",
    "# Print out our data\n",
    "\n",
    "print data"
   ]
  }
 ],
 "metadata": {
  "kernelspec": {
   "display_name": "Python 2",
   "language": "python",
   "name": "python2"
  },
  "language_info": {
   "codemirror_mode": {
    "name": "ipython",
    "version": 2
   },
   "file_extension": ".py",
   "mimetype": "text/x-python",
   "name": "python",
   "nbconvert_exporter": "python",
   "pygments_lexer": "ipython2",
   "version": "2.7.10"
  }
 },
 "nbformat": 4,
 "nbformat_minor": 0
}
